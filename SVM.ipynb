{
  "nbformat": 4,
  "nbformat_minor": 0,
  "metadata": {
    "colab": {
      "name": "SVM.ipynb",
      "provenance": [],
      "collapsed_sections": []
    },
    "kernelspec": {
      "name": "python3",
      "display_name": "Python 3"
    }
  },
  "cells": [
    {
      "cell_type": "markdown",
      "metadata": {
        "id": "ZnmL42Hp0gAM"
      },
      "source": [
        "# Support Vector Machine (SVM)"
      ]
    },
    {
      "cell_type": "code",
      "metadata": {
        "id": "wTQ9UegE0kmT"
      },
      "source": [
        "import numpy as np\n",
        "import matplotlib.pyplot as plt\n",
        "import pandas as pd"
      ],
      "execution_count": 1,
      "outputs": []
    },
    {
      "cell_type": "code",
      "metadata": {
        "colab": {
          "base_uri": "https://localhost:8080/"
        },
        "id": "BglUKhdD0mmb",
        "outputId": "c1cb830c-2885-4bee-ea6f-0353dda81959"
      },
      "source": [
        "dataset = pd.read_csv('https://raw.githubusercontent.com/hank199599/Machine-Learning-for-Practical-Optical-Design-data/main/data/Salary_Data.csv')\n",
        "X = dataset.iloc[:, :-1].values\n",
        "y = dataset.iloc[:, 1].values\n",
        "print(X.shape, y.shape)"
      ],
      "execution_count": 2,
      "outputs": [
        {
          "output_type": "stream",
          "text": [
            "(30, 1) (30,)\n"
          ],
          "name": "stdout"
        }
      ]
    },
    {
      "cell_type": "markdown",
      "metadata": {
        "id": "TZ-3Z1Y9IB9F"
      },
      "source": [
        "#### Splitting the dataset into the Training set and Test set"
      ]
    },
    {
      "cell_type": "code",
      "metadata": {
        "id": "trFI4XCtIDTU"
      },
      "source": [
        "from sklearn.model_selection import train_test_split\n",
        "X_train, X_test, y_train, y_test = train_test_split(X, y, test_size = 0.25, random_state = 0)"
      ],
      "execution_count": 3,
      "outputs": []
    },
    {
      "cell_type": "markdown",
      "metadata": {
        "id": "X8c6CviZIGX1"
      },
      "source": [
        "#### Feature Scaling"
      ]
    },
    {
      "cell_type": "code",
      "metadata": {
        "id": "8WpjiG7GIHPs"
      },
      "source": [
        "from sklearn.preprocessing import StandardScaler\n",
        "sc = StandardScaler()\n",
        "X_train = sc.fit_transform(X_train)\n",
        "X_test = sc.transform(X_test)"
      ],
      "execution_count": 4,
      "outputs": []
    },
    {
      "cell_type": "markdown",
      "metadata": {
        "id": "-EXdD7GxIKPM"
      },
      "source": [
        "[link](https://paper.dropbox.com/doc/ML_0323_Regression-Classification-6ZKFoYTPdrPnuMfGTfXnL)"
      ]
    },
    {
      "cell_type": "markdown",
      "metadata": {
        "id": "jdZLKXXrII5c"
      },
      "source": [
        "# Kernel SVM"
      ]
    },
    {
      "cell_type": "code",
      "metadata": {
        "id": "EDtvhKKJrbLs",
        "outputId": "307e80b7-4f53-4e08-a269-0c4bff128e2a",
        "colab": {
          "base_uri": "https://localhost:8080/"
        }
      },
      "source": [
        "\n",
        "# Fitting classifier to the Training set\n",
        "from sklearn.svm import SVC\n",
        "classifier = SVC(kernel = 'rbf', random_state = 0)\n",
        "classifier.fit(X_train, y_train)"
      ],
      "execution_count": 5,
      "outputs": [
        {
          "output_type": "execute_result",
          "data": {
            "text/plain": [
              "SVC(C=1.0, break_ties=False, cache_size=200, class_weight=None, coef0=0.0,\n",
              "    decision_function_shape='ovr', degree=3, gamma='scale', kernel='rbf',\n",
              "    max_iter=-1, probability=False, random_state=0, shrinking=True, tol=0.001,\n",
              "    verbose=False)"
            ]
          },
          "metadata": {
            "tags": []
          },
          "execution_count": 5
        }
      ]
    },
    {
      "cell_type": "markdown",
      "metadata": {
        "id": "0VTXvEVBr0iS"
      },
      "source": [
        "## Import statements "
      ]
    },
    {
      "cell_type": "code",
      "metadata": {
        "id": "sLQRyt54rzki",
        "outputId": "2d70401d-6b1e-41ef-98e9-6adc94e1ae21",
        "colab": {
          "base_uri": "https://localhost:8080/"
        }
      },
      "source": [
        "from sklearn.svm import SVC\n",
        "from sklearn.metrics import accuracy_score\n",
        "import pandas as pd\n",
        "import numpy as np\n",
        "import matplotlib.pyplot as plt\n",
        "\n",
        "# Read the data.\n",
        "data = np.asarray(pd.read_csv('https://raw.githubusercontent.com/hank199599/Machine-Learning-for-Practical-Optical-Design-data/main/data/svm-data.csv', header=None))\n",
        "# Assign the features to the variable X, and the labels to the variable y. \n",
        "X = data[:,0:2]\n",
        "y = data[:,2]\n",
        "\n",
        "# TODO: Create the model and assign it to the variable model.\n",
        "# Find the right parameters for this model to achieve 100% accuracy on the dataset.\n",
        "model = SVC(kernel='rbf', C=1.0, gamma='scale')\n",
        "\n",
        "# TODO: Fit the model.\n",
        "model.fit(X, y)\n",
        "\n",
        "# TODO: Make predictions. Store them in the variable y_pred.\n",
        "y_pred = model.predict(X)\n",
        "\n",
        "# TODO: Calculate the accuracy and assign it to the variable acc.\n",
        "acc = accuracy_score(y, y_pred)\n",
        "print(acc)\n"
      ],
      "execution_count": 8,
      "outputs": [
        {
          "output_type": "stream",
          "text": [
            "0.8541666666666666\n"
          ],
          "name": "stdout"
        }
      ]
    }
  ]
}