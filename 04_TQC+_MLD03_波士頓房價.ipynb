{
  "nbformat": 4,
  "nbformat_minor": 0,
  "metadata": {
    "colab": {
      "name": "04_TQC+_MLD03_波士頓房價.ipynb",
      "provenance": [],
      "collapsed_sections": [],
      "include_colab_link": true
    },
    "kernelspec": {
      "name": "python3",
      "display_name": "Python 3"
    }
  },
  "cells": [
    {
      "cell_type": "markdown",
      "metadata": {
        "id": "view-in-github",
        "colab_type": "text"
      },
      "source": [
        "<a href=\"https://colab.research.google.com/github/hank199599/Machine-Learning-for-Practical-Optical-Design-data/blob/main/04_TQC%2B_MLD03_%E6%B3%A2%E5%A3%AB%E9%A0%93%E6%88%BF%E5%83%B9.ipynb\" target=\"_parent\"><img src=\"https://colab.research.google.com/assets/colab-badge.svg\" alt=\"Open In Colab\"/></a>"
      ]
    },
    {
      "cell_type": "code",
      "metadata": {
        "id": "XoRgMPlyqQbh"
      },
      "source": [
        "from sklearn import datasets\r\n",
        "from sklearn.model_selection import cross_val_predict\r\n",
        "from sklearn import linear_model\r\n",
        "import matplotlib.pyplot as plt\r\n",
        "import pandas as pd\r\n",
        "import numpy as np"
      ],
      "execution_count": 29,
      "outputs": []
    },
    {
      "cell_type": "code",
      "metadata": {
        "id": "4nmk-i7Xry6P",
        "outputId": "47547eb2-39db-426a-f047-d4c0f5144a71",
        "colab": {
          "base_uri": "https://localhost:8080/",
          "height": 204
        }
      },
      "source": [
        "from sklearn.datasets import load_boston\r\n",
        "boston = load_boston()\r\n",
        "# df = pd.DataFrame(boston.data.T, ['CRIM','ZN','INDUS','CHAS','NOX','RM','AGE','DIS','RAD','TAX','PTRATIO','B','LSTAT']) #有13個feature\r\n",
        "df = pd.DataFrame(boston.data.T, ['CRIM', 'ZN', 'INDUS', 'CHAS', 'NOX', 'RM', 'AGE', 'DIS', 'RAD', 'TAX', 'PTRATIO', 'B', 'LSTAT']).T #有13個feature\r\n",
        "df.head()"
      ],
      "execution_count": 30,
      "outputs": [
        {
          "output_type": "execute_result",
          "data": {
            "text/html": [
              "<div>\n",
              "<style scoped>\n",
              "    .dataframe tbody tr th:only-of-type {\n",
              "        vertical-align: middle;\n",
              "    }\n",
              "\n",
              "    .dataframe tbody tr th {\n",
              "        vertical-align: top;\n",
              "    }\n",
              "\n",
              "    .dataframe thead th {\n",
              "        text-align: right;\n",
              "    }\n",
              "</style>\n",
              "<table border=\"1\" class=\"dataframe\">\n",
              "  <thead>\n",
              "    <tr style=\"text-align: right;\">\n",
              "      <th></th>\n",
              "      <th>CRIM</th>\n",
              "      <th>ZN</th>\n",
              "      <th>INDUS</th>\n",
              "      <th>CHAS</th>\n",
              "      <th>NOX</th>\n",
              "      <th>RM</th>\n",
              "      <th>AGE</th>\n",
              "      <th>DIS</th>\n",
              "      <th>RAD</th>\n",
              "      <th>TAX</th>\n",
              "      <th>PTRATIO</th>\n",
              "      <th>B</th>\n",
              "      <th>LSTAT</th>\n",
              "    </tr>\n",
              "  </thead>\n",
              "  <tbody>\n",
              "    <tr>\n",
              "      <th>0</th>\n",
              "      <td>0.00632</td>\n",
              "      <td>18.0</td>\n",
              "      <td>2.31</td>\n",
              "      <td>0.0</td>\n",
              "      <td>0.538</td>\n",
              "      <td>6.575</td>\n",
              "      <td>65.2</td>\n",
              "      <td>4.0900</td>\n",
              "      <td>1.0</td>\n",
              "      <td>296.0</td>\n",
              "      <td>15.3</td>\n",
              "      <td>396.90</td>\n",
              "      <td>4.98</td>\n",
              "    </tr>\n",
              "    <tr>\n",
              "      <th>1</th>\n",
              "      <td>0.02731</td>\n",
              "      <td>0.0</td>\n",
              "      <td>7.07</td>\n",
              "      <td>0.0</td>\n",
              "      <td>0.469</td>\n",
              "      <td>6.421</td>\n",
              "      <td>78.9</td>\n",
              "      <td>4.9671</td>\n",
              "      <td>2.0</td>\n",
              "      <td>242.0</td>\n",
              "      <td>17.8</td>\n",
              "      <td>396.90</td>\n",
              "      <td>9.14</td>\n",
              "    </tr>\n",
              "    <tr>\n",
              "      <th>2</th>\n",
              "      <td>0.02729</td>\n",
              "      <td>0.0</td>\n",
              "      <td>7.07</td>\n",
              "      <td>0.0</td>\n",
              "      <td>0.469</td>\n",
              "      <td>7.185</td>\n",
              "      <td>61.1</td>\n",
              "      <td>4.9671</td>\n",
              "      <td>2.0</td>\n",
              "      <td>242.0</td>\n",
              "      <td>17.8</td>\n",
              "      <td>392.83</td>\n",
              "      <td>4.03</td>\n",
              "    </tr>\n",
              "    <tr>\n",
              "      <th>3</th>\n",
              "      <td>0.03237</td>\n",
              "      <td>0.0</td>\n",
              "      <td>2.18</td>\n",
              "      <td>0.0</td>\n",
              "      <td>0.458</td>\n",
              "      <td>6.998</td>\n",
              "      <td>45.8</td>\n",
              "      <td>6.0622</td>\n",
              "      <td>3.0</td>\n",
              "      <td>222.0</td>\n",
              "      <td>18.7</td>\n",
              "      <td>394.63</td>\n",
              "      <td>2.94</td>\n",
              "    </tr>\n",
              "    <tr>\n",
              "      <th>4</th>\n",
              "      <td>0.06905</td>\n",
              "      <td>0.0</td>\n",
              "      <td>2.18</td>\n",
              "      <td>0.0</td>\n",
              "      <td>0.458</td>\n",
              "      <td>7.147</td>\n",
              "      <td>54.2</td>\n",
              "      <td>6.0622</td>\n",
              "      <td>3.0</td>\n",
              "      <td>222.0</td>\n",
              "      <td>18.7</td>\n",
              "      <td>396.90</td>\n",
              "      <td>5.33</td>\n",
              "    </tr>\n",
              "  </tbody>\n",
              "</table>\n",
              "</div>"
            ],
            "text/plain": [
              "      CRIM    ZN  INDUS  CHAS    NOX  ...  RAD    TAX  PTRATIO       B  LSTAT\n",
              "0  0.00632  18.0   2.31   0.0  0.538  ...  1.0  296.0     15.3  396.90   4.98\n",
              "1  0.02731   0.0   7.07   0.0  0.469  ...  2.0  242.0     17.8  396.90   9.14\n",
              "2  0.02729   0.0   7.07   0.0  0.469  ...  2.0  242.0     17.8  392.83   4.03\n",
              "3  0.03237   0.0   2.18   0.0  0.458  ...  3.0  222.0     18.7  394.63   2.94\n",
              "4  0.06905   0.0   2.18   0.0  0.458  ...  3.0  222.0     18.7  396.90   5.33\n",
              "\n",
              "[5 rows x 13 columns]"
            ]
          },
          "metadata": {
            "tags": []
          },
          "execution_count": 30
        }
      ]
    },
    {
      "cell_type": "markdown",
      "metadata": {
        "id": "4xRrrP8Z5jeR"
      },
      "source": [
        "資料說明\r\n",
        "* CRIM：按城鎮劃分的人均犯罪率\r\n",
        "* ZN：超過25,000平方英尺的土地劃為住宅用地的比例\r\n",
        "* INDUS：城鎮非零售商用土地的比例\r\n",
        "* CHAS：Charles River虛擬變數(如果靠近河流為1；否則為0)\r\n",
        "* NOX：一氧化氮濃度(以百萬分之幾為單位)\r\n",
        "* RM：每個住宅的平均房間數\r\n",
        "* AGE：1940年之前建造自有單位的比例\r\n",
        "* DIS：到五個波士頓就業中心的加權距離\r\n",
        "* RAD：徑向公路的可達性指標\r\n",
        "* TAX：每10,000美金的全值財產稅率\r\n",
        "* PTRATIO：城鎮的師生比例\r\n",
        "* B：1000(Bk-0.63)^2，其中Bk是按城鎮劃分的非裔比例\r\n",
        "* LSTAT：低階人口狀況百分比\r\n",
        "* MEDV：自有住房的中位數價格(單位為1,000美元)"
      ]
    },
    {
      "cell_type": "code",
      "metadata": {
        "id": "vBk550bLr7sO",
        "outputId": "bb6fa7e4-ca4d-47e9-a6af-60aed1fcf4a0",
        "colab": {
          "base_uri": "https://localhost:8080/"
        }
      },
      "source": [
        "X = pd.DataFrame(boston.data).values\r\n",
        "y = pd.DataFrame(boston.target).values\r\n",
        "# y = np.squeeze(y)\r\n",
        "\r\n",
        "print(X.shape)\r\n",
        "print(y.shape)"
      ],
      "execution_count": 31,
      "outputs": [
        {
          "output_type": "stream",
          "text": [
            "(506, 13)\n",
            "(506, 1)\n"
          ],
          "name": "stdout"
        }
      ]
    },
    {
      "cell_type": "code",
      "metadata": {
        "id": "9_wlpfa3uXuE",
        "outputId": "c28b2d58-28cf-45e0-80c4-7a34db8bbe74",
        "colab": {
          "base_uri": "https://localhost:8080/"
        }
      },
      "source": [
        "# TODO\r\n",
        "#分出20%的資料作為test set，random_state = 1\r\n",
        "from sklearn.model_selection import train_test_split\r\n",
        "X_train, X_test, y_train, y_test = train_test_split(X, y, test_size = 1/5, random_state = 0)\r\n",
        "print(X_train.shape, X_test.shape, y_train.shape, y_test.shape)"
      ],
      "execution_count": 32,
      "outputs": [
        {
          "output_type": "stream",
          "text": [
            "(404, 13) (102, 13) (404, 1) (102, 1)\n"
          ],
          "name": "stdout"
        }
      ]
    },
    {
      "cell_type": "markdown",
      "metadata": {
        "id": "zm0GI-oWl_pJ"
      },
      "source": [
        "# TODO\r\n",
        "Fit linear model 配適線性模型"
      ]
    },
    {
      "cell_type": "code",
      "metadata": {
        "colab": {
          "base_uri": "https://localhost:8080/"
        },
        "id": "D5IHY6NH037z",
        "outputId": "0a0d17ba-7634-42bc-dcda-a43b689cdaf7"
      },
      "source": [
        "from sklearn.preprocessing import PolynomialFeatures\r\n",
        "poly_reg = PolynomialFeatures(degree = 4)\r\n",
        "X_poly = poly_reg.fit_transform(X)\r\n",
        "lin_reg = LinearRegression()\r\n",
        "lin_reg.fit(X_poly, y)\r\n",
        "\r\n",
        "print('score = %.4f' %lin_reg.score(X_poly, y))"
      ],
      "execution_count": 33,
      "outputs": [
        {
          "output_type": "stream",
          "text": [
            "score = 1.0000\n"
          ],
          "name": "stdout"
        }
      ]
    },
    {
      "cell_type": "code",
      "metadata": {
        "id": "4qBLKlFomVqn",
        "outputId": "1ee18c70-9b99-4428-f325-8bae48e55684",
        "colab": {
          "base_uri": "https://localhost:8080/"
        }
      },
      "source": [
        "R2 = lin_reg.score(X_poly, y)\r\n",
        "AR2 = 1 - (1 - R2) * (len(y) - 1) / (len(y) - X_poly.shape[1] - 2)\r\n",
        "print(R2, AR2)"
      ],
      "execution_count": 35,
      "outputs": [
        {
          "output_type": "stream",
          "text": [
            "1.0 1.0\n"
          ],
          "name": "stdout"
        }
      ]
    },
    {
      "cell_type": "code",
      "metadata": {
        "id": "gA4DwUZ6uu7T",
        "outputId": "e488cd08-af80-4ace-fd45-49743b33dacf",
        "colab": {
          "base_uri": "https://localhost:8080/"
        }
      },
      "source": [
        "# TODO\r\n",
        "from sklearn.metrics import r2_score, mean_absolute_error, mean_squared_error\r\n",
        "y_pred = regressor.predict(X_test)\r\n",
        "print('MAE:', mean_absolute_error(y_test, y_pred))\r\n",
        "print('MSE:', mean_squared_error(y_test, y_pred, squared=True))\r\n",
        "print('RMSE:', mean_squared_error(y_test, y_pred, squared=False))\r\n",
        "print('R2:', r2_score(y_test, y_pred))\r\n",
        "print('Score:', regressor.score(X, y))"
      ],
      "execution_count": 44,
      "outputs": [
        {
          "output_type": "stream",
          "text": [
            "MAE: 3.8429092204444975\n",
            "MSE: 33.448979997676496\n",
            "RMSE: 5.783509315085133\n",
            "R2: 0.5892223849182512\n",
            "Score: 0.7373440319905035\n"
          ],
          "name": "stdout"
        }
      ]
    },
    {
      "cell_type": "markdown",
      "metadata": {
        "id": "IZLYoGyIaGth"
      },
      "source": [
        "請問，預測房價為何？"
      ]
    },
    {
      "cell_type": "code",
      "metadata": {
        "id": "GOMS2c_W1ucK",
        "outputId": "ea1886e4-de43-4d82-fa58-91e98cef1bb1",
        "colab": {
          "base_uri": "https://localhost:8080/"
        }
      },
      "source": [
        "# TODO\r\n",
        "X_new = ([[0.00632, 18.00, 2.310, 0, 0.5380, 6.5750, 65.20, 4.0900, 1, 296.0, 15.30, 396.90 , 4.98]])\r\n",
        "y_predic = regressor.predict(X_new)\r\n",
        "y_predic"
      ],
      "execution_count": 40,
      "outputs": [
        {
          "output_type": "execute_result",
          "data": {
            "text/plain": [
              "array([[30.49949836]])"
            ]
          },
          "metadata": {
            "tags": []
          },
          "execution_count": 40
        }
      ]
    },
    {
      "cell_type": "markdown",
      "metadata": {
        "id": "XgD1lAn7aizr"
      },
      "source": [
        "請問，哪些特徵在反向淘汰下，可以被移除？(P-value是否小於0.05)"
      ]
    },
    {
      "cell_type": "code",
      "metadata": {
        "id": "JfEUuqEy3qvP",
        "outputId": "6af948cc-e0b1-4811-d7f8-047cd26fc9c1",
        "colab": {
          "base_uri": "https://localhost:8080/"
        }
      },
      "source": [
        "# TODO\r\n",
        "import statsmodels.api as sm\r\n",
        "X_train_c = sm.add_constant(X_train)\r\n",
        "X_train_c = np.array(X_train_c, dtype='float')\r\n",
        "X_opt = X_train_c[:, [0, 1, 2, 3, 4, 5, 6, 7, 8, 9, 10, 11, 12, 13]]\r\n",
        "\r\n",
        "regressor_OLS = sm.OLS(y_train, X_opt).fit()\r\n",
        "print(regressor_OLS.summary())"
      ],
      "execution_count": 39,
      "outputs": [
        {
          "output_type": "stream",
          "text": [
            "/usr/local/lib/python3.7/dist-packages/statsmodels/tools/_testing.py:19: FutureWarning: pandas.util.testing is deprecated. Use the functions in the public API at pandas.testing instead.\n",
            "  import pandas.util.testing as tm\n"
          ],
          "name": "stderr"
        },
        {
          "output_type": "stream",
          "text": [
            "                            OLS Regression Results                            \n",
            "==============================================================================\n",
            "Dep. Variable:                      y   R-squared:                       0.773\n",
            "Model:                            OLS   Adj. R-squared:                  0.765\n",
            "Method:                 Least Squares   F-statistic:                     102.2\n",
            "Date:                Tue, 16 Mar 2021   Prob (F-statistic):          9.64e-117\n",
            "Time:                        06:04:17   Log-Likelihood:                -1171.5\n",
            "No. Observations:                 404   AIC:                             2371.\n",
            "Df Residuals:                     390   BIC:                             2427.\n",
            "Df Model:                          13                                         \n",
            "Covariance Type:            nonrobust                                         \n",
            "==============================================================================\n",
            "                 coef    std err          t      P>|t|      [0.025      0.975]\n",
            "------------------------------------------------------------------------------\n",
            "const         38.0917      5.522      6.898      0.000      27.234      48.949\n",
            "x1            -0.1194      0.037     -3.257      0.001      -0.192      -0.047\n",
            "x2             0.0448      0.014      3.102      0.002       0.016       0.073\n",
            "x3             0.0055      0.063      0.087      0.931      -0.119       0.130\n",
            "x4             2.3408      0.902      2.595      0.010       0.567       4.115\n",
            "x5           -16.1236      4.212     -3.828      0.000     -24.404      -7.843\n",
            "x6             3.7087      0.458      8.106      0.000       2.809       4.608\n",
            "x7            -0.0031      0.014     -0.218      0.828      -0.031       0.025\n",
            "x8            -1.3864      0.214     -6.480      0.000      -1.807      -0.966\n",
            "x9             0.2442      0.070      3.481      0.001       0.106       0.382\n",
            "x10           -0.0110      0.004     -2.819      0.005      -0.019      -0.003\n",
            "x11           -1.0459      0.137     -7.636      0.000      -1.315      -0.777\n",
            "x12            0.0081      0.003      2.749      0.006       0.002       0.014\n",
            "x13           -0.4928      0.054     -9.086      0.000      -0.599      -0.386\n",
            "==============================================================================\n",
            "Omnibus:                      141.494   Durbin-Watson:                   1.996\n",
            "Prob(Omnibus):                  0.000   Jarque-Bera (JB):              629.882\n",
            "Skew:                           1.470   Prob(JB):                    1.67e-137\n",
            "Kurtosis:                       8.365   Cond. No.                     1.55e+04\n",
            "==============================================================================\n",
            "\n",
            "Warnings:\n",
            "[1] Standard Errors assume that the covariance matrix of the errors is correctly specified.\n",
            "[2] The condition number is large, 1.55e+04. This might indicate that there are\n",
            "strong multicollinearity or other numerical problems.\n"
          ],
          "name": "stdout"
        }
      ]
    },
    {
      "cell_type": "code",
      "metadata": {
        "id": "Dn2uWPFp8u1-",
        "outputId": "e2954b34-5995-44a5-efda-6d1e49e70f73",
        "colab": {
          "base_uri": "https://localhost:8080/"
        }
      },
      "source": [
        "# TODO\r\n",
        "X_opt = X_train_c[:, [0, 1, 2,  4, 5, 6, 7,8, 9, 10, 11, 12, 13]]\r\n",
        "X_opt = np.array(X_opt, dtype='float')\r\n",
        "regressor_OLS = sm.OLS(y_train, X_opt).fit()\r\n",
        "print(regressor_OLS.summary())"
      ],
      "execution_count": 50,
      "outputs": [
        {
          "output_type": "stream",
          "text": [
            "                            OLS Regression Results                            \n",
            "==============================================================================\n",
            "Dep. Variable:                      y   R-squared:                       0.773\n",
            "Model:                            OLS   Adj. R-squared:                  0.766\n",
            "Method:                 Least Squares   F-statistic:                     111.0\n",
            "Date:                Tue, 16 Mar 2021   Prob (F-statistic):          8.98e-118\n",
            "Time:                        06:28:52   Log-Likelihood:                -1171.5\n",
            "No. Observations:                 404   AIC:                             2369.\n",
            "Df Residuals:                     391   BIC:                             2421.\n",
            "Df Model:                          12                                         \n",
            "Covariance Type:            nonrobust                                         \n",
            "==============================================================================\n",
            "                 coef    std err          t      P>|t|      [0.025      0.975]\n",
            "------------------------------------------------------------------------------\n",
            "const         38.0608      5.504      6.915      0.000      27.240      48.882\n",
            "x1            -0.1196      0.037     -3.267      0.001      -0.192      -0.048\n",
            "x2             0.0447      0.014      3.110      0.002       0.016       0.073\n",
            "x3             2.3477      0.897      2.616      0.009       0.583       4.112\n",
            "x4           -16.0297      4.064     -3.944      0.000     -24.020      -8.039\n",
            "x5             3.7051      0.455      8.142      0.000       2.810       4.600\n",
            "x6            -0.0031      0.014     -0.220      0.826      -0.031       0.025\n",
            "x7            -1.3905      0.208     -6.671      0.000      -1.800      -0.981\n",
            "x8             0.2423      0.066      3.646      0.000       0.112       0.373\n",
            "x9            -0.0108      0.003     -3.133      0.002      -0.018      -0.004\n",
            "x10           -1.0441      0.135     -7.728      0.000      -1.310      -0.778\n",
            "x11            0.0081      0.003      2.751      0.006       0.002       0.014\n",
            "x12           -0.4924      0.054     -9.118      0.000      -0.599      -0.386\n",
            "==============================================================================\n",
            "Omnibus:                      141.572   Durbin-Watson:                   1.997\n",
            "Prob(Omnibus):                  0.000   Jarque-Bera (JB):              630.874\n",
            "Skew:                           1.470   Prob(JB):                    1.02e-137\n",
            "Kurtosis:                       8.370   Cond. No.                     1.54e+04\n",
            "==============================================================================\n",
            "\n",
            "Warnings:\n",
            "[1] Standard Errors assume that the covariance matrix of the errors is correctly specified.\n",
            "[2] The condition number is large, 1.54e+04. This might indicate that there are\n",
            "strong multicollinearity or other numerical problems.\n"
          ],
          "name": "stdout"
        }
      ]
    },
    {
      "cell_type": "code",
      "metadata": {
        "id": "dSd2QsRG-kdu",
        "outputId": "7fd55cf0-df35-4508-a351-6095ce2c52b4",
        "colab": {
          "base_uri": "https://localhost:8080/"
        }
      },
      "source": [
        "# TODO\r\n",
        "X_opt = X_train_c[:, [0, 1, 2, 4, 5, 6, 8, 9, 10, 11, 12, 13]]\r\n",
        "X_opt = np.array(X_opt, dtype='float')\r\n",
        "regressor_OLS = sm.OLS(y_train, X_opt).fit()\r\n",
        "print(regressor_OLS.summary())"
      ],
      "execution_count": 51,
      "outputs": [
        {
          "output_type": "stream",
          "text": [
            "                            OLS Regression Results                            \n",
            "==============================================================================\n",
            "Dep. Variable:                      y   R-squared:                       0.773\n",
            "Model:                            OLS   Adj. R-squared:                  0.767\n",
            "Method:                 Least Squares   F-statistic:                     121.3\n",
            "Date:                Tue, 16 Mar 2021   Prob (F-statistic):          8.15e-119\n",
            "Time:                        06:28:57   Log-Likelihood:                -1171.5\n",
            "No. Observations:                 404   AIC:                             2367.\n",
            "Df Residuals:                     392   BIC:                             2415.\n",
            "Df Model:                          11                                         \n",
            "Covariance Type:            nonrobust                                         \n",
            "==============================================================================\n",
            "                 coef    std err          t      P>|t|      [0.025      0.975]\n",
            "------------------------------------------------------------------------------\n",
            "const         38.1638      5.477      6.968      0.000      27.395      48.932\n",
            "x1            -0.1193      0.037     -3.265      0.001      -0.191      -0.047\n",
            "x2             0.0451      0.014      3.182      0.002       0.017       0.073\n",
            "x3             2.3428      0.896      2.615      0.009       0.581       4.105\n",
            "x4           -16.2979      3.872     -4.209      0.000     -23.910      -8.685\n",
            "x5             3.6855      0.446      8.269      0.000       2.809       4.562\n",
            "x6            -1.3773      0.199     -6.906      0.000      -1.769      -0.985\n",
            "x7             0.2432      0.066      3.672      0.000       0.113       0.373\n",
            "x8            -0.0108      0.003     -3.141      0.002      -0.018      -0.004\n",
            "x9            -1.0457      0.135     -7.762      0.000      -1.311      -0.781\n",
            "x10            0.0080      0.003      2.746      0.006       0.002       0.014\n",
            "x11           -0.4966      0.050     -9.848      0.000      -0.596      -0.397\n",
            "==============================================================================\n",
            "Omnibus:                      140.146   Durbin-Watson:                   1.999\n",
            "Prob(Omnibus):                  0.000   Jarque-Bera (JB):              614.839\n",
            "Skew:                           1.459   Prob(JB):                    3.09e-134\n",
            "Kurtosis:                       8.292   Cond. No.                     1.50e+04\n",
            "==============================================================================\n",
            "\n",
            "Warnings:\n",
            "[1] Standard Errors assume that the covariance matrix of the errors is correctly specified.\n",
            "[2] The condition number is large, 1.5e+04. This might indicate that there are\n",
            "strong multicollinearity or other numerical problems.\n"
          ],
          "name": "stdout"
        }
      ]
    },
    {
      "cell_type": "markdown",
      "metadata": {
        "id": "l9LD9ovQsXD5"
      },
      "source": [
        "* INDUS：城鎮非零售商用土地的比例\r\n",
        "* AGE：1940年之前建造自有單位的比例"
      ]
    }
  ]
}