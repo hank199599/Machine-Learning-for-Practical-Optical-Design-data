{
  "nbformat": 4,
  "nbformat_minor": 0,
  "metadata": {
    "colab": {
      "name": "04_TQC+_MLD03_波士頓房價.ipynb",
      "provenance": [],
      "collapsed_sections": [],
      "include_colab_link": true
    },
    "kernelspec": {
      "name": "python3",
      "display_name": "Python 3"
    }
  },
  "cells": [
    {
      "cell_type": "markdown",
      "metadata": {
        "id": "view-in-github",
        "colab_type": "text"
      },
      "source": [
        "<a href=\"https://colab.research.google.com/github/hank199599/Machine-Learning-for-Practical-Optical-Design-data/blob/main/04_TQC%2B_MLD03_%E6%B3%A2%E5%A3%AB%E9%A0%93%E6%88%BF%E5%83%B9.ipynb\" target=\"_parent\"><img src=\"https://colab.research.google.com/assets/colab-badge.svg\" alt=\"Open In Colab\"/></a>"
      ]
    },
    {
      "cell_type": "code",
      "metadata": {
        "id": "XoRgMPlyqQbh"
      },
      "source": [
        "from sklearn import datasets\r\n",
        "from sklearn.model_selection import cross_val_predict\r\n",
        "from sklearn import linear_model\r\n",
        "import pandas as pd\r\n",
        "import numpy as np"
      ],
      "execution_count": null,
      "outputs": []
    },
    {
      "cell_type": "code",
      "metadata": {
        "id": "4nmk-i7Xry6P"
      },
      "source": [
        "from sklearn.datasets import load_boston\r\n",
        "boston = load_boston()\r\n",
        "# df = pd.DataFrame(boston.data.T, ['CRIM','ZN','INDUS','CHAS','NOX','RM','AGE','DIS','RAD','TAX','PTRATIO','B','LSTAT']) #有13個feature\r\n",
        "df = pd.DataFrame(boston.data.T, ['CRIM', 'ZN', 'INDUS', 'CHAS', 'NOX', 'RM', 'AGE', 'DIS', 'RAD', 'TAX', 'PTRATIO', 'B', 'LSTAT']).T #有13個feature\r\n",
        "df.head()"
      ],
      "execution_count": null,
      "outputs": []
    },
    {
      "cell_type": "markdown",
      "metadata": {
        "id": "4xRrrP8Z5jeR"
      },
      "source": [
        "資料說明\r\n",
        "* CRIM：按城鎮劃分的人均犯罪率\r\n",
        "* ZN：超過25,000平方英尺的土地劃為住宅用地的比例\r\n",
        "* INDUS：城鎮非零售商用土地的比例\r\n",
        "* CHAS：Charles River虛擬變數(如果靠近河流為1；否則為0)\r\n",
        "* NOX：一氧化氮濃度(以百萬分之幾為單位)\r\n",
        "* RM：每個住宅的平均房間數\r\n",
        "* AGE：1940年之前建造自有單位的比例\r\n",
        "* DIS：到五個波士頓就業中心的加權距離\r\n",
        "* RAD：徑向公路的可達性指標\r\n",
        "* TAX：每10,000美金的全值財產稅率\r\n",
        "* PTRATIO：城鎮的師生比例\r\n",
        "* B：1000(Bk-0.63)^2，其中Bk是按城鎮劃分的非裔比例\r\n",
        "* LSTAT：低階人口狀況百分比\r\n",
        "* MEDV：自有住房的中位數價格(單位為1,000美元)"
      ]
    },
    {
      "cell_type": "code",
      "metadata": {
        "id": "vBk550bLr7sO"
      },
      "source": [
        "X = pd.DataFrame(boston.data)\r\n",
        "y = pd.DataFrame(boston.target)\r\n",
        "# y = np.squeeze(y)\r\n",
        "\r\n",
        "print(X.shape)\r\n",
        "print(y.shape)"
      ],
      "execution_count": null,
      "outputs": []
    },
    {
      "cell_type": "code",
      "metadata": {
        "id": "9_wlpfa3uXuE"
      },
      "source": [
        "# TODO\r\n",
        "#分出20%的資料作為test set，random_state = 1\r\n",
        "from sklearn.model_selection import train_test_split\r\n",
        "\r\n",
        "print(X_train.shape, X_test.shape, y_train.shape, y_test.shape)"
      ],
      "execution_count": null,
      "outputs": []
    },
    {
      "cell_type": "code",
      "metadata": {
        "id": "-v4GoH-OuyfK"
      },
      "source": [
        "# TODO\r\n",
        "#Fit linear model 配適線性模型\r\n"
      ],
      "execution_count": null,
      "outputs": []
    },
    {
      "cell_type": "code",
      "metadata": {
        "id": "gA4DwUZ6uu7T"
      },
      "source": [
        "# TODO\r\n",
        "from sklearn.metrics import r2_score, mean_absolute_error, mean_squared_error\r\n",
        "y_pred = regressor.predict(X_test)\r\n",
        "print('MAE:', mean_absolute_error(y_test, y_pred))\r\n",
        "print('MSE:', mean_squared_error(y_test, y_pred, squared=True))\r\n",
        "print('RMSE:', mean_squared_error(y_test, y_pred, squared=False))\r\n",
        "print('R2:', r2_score(y_test, y_pred))\r\n",
        "print('Score:', )"
      ],
      "execution_count": null,
      "outputs": []
    },
    {
      "cell_type": "markdown",
      "metadata": {
        "id": "IZLYoGyIaGth"
      },
      "source": [
        "請問，預測房價為何？"
      ]
    },
    {
      "cell_type": "code",
      "metadata": {
        "id": "GOMS2c_W1ucK"
      },
      "source": [
        "# TODO\r\n",
        "X_new = ([[0.00632, 18.00, 2.310, 0, 0.5380, 6.5750, 65.20, 4.0900, 1, 296.0, 15.30, 396.90 , 4.98]])\r\n"
      ],
      "execution_count": null,
      "outputs": []
    },
    {
      "cell_type": "markdown",
      "metadata": {
        "id": "XgD1lAn7aizr"
      },
      "source": [
        "請問，哪些特徵在反向淘汰下，可以被移除？(P-value是否小於0.05)"
      ]
    },
    {
      "cell_type": "code",
      "metadata": {
        "id": "JfEUuqEy3qvP"
      },
      "source": [
        "# TODO\r\n",
        "import statsmodels.api as sm\r\n",
        "X_train_c = \r\n",
        "X_train_c = np.array(X_train_c, dtype='float')\r\n",
        "X_opt = X_train_c[:, [0, 1, 2, 3, 4, 5, 6, 7, 8, 9, 10, 11, 12, 13]]\r\n",
        "\r\n",
        "regressor_OLS = sm.OLS(y_train, X_opt).fit()\r\n",
        "print(regressor_OLS.summary())"
      ],
      "execution_count": null,
      "outputs": []
    },
    {
      "cell_type": "code",
      "metadata": {
        "id": "Dn2uWPFp8u1-"
      },
      "source": [
        "# TODO\r\n",
        "X_opt = X_train_c[:, [0, 1, 2, 3, 4, 5, 6, 7, 8, 9, 10, 11, 12, 13]]\r\n",
        "\r\n",
        "regressor_OLS = sm.OLS(y_train, X_opt).fit()\r\n",
        "print(regressor_OLS.summary())"
      ],
      "execution_count": null,
      "outputs": []
    },
    {
      "cell_type": "code",
      "metadata": {
        "id": "dSd2QsRG-kdu"
      },
      "source": [
        "# TODO\r\n",
        "X_opt = X_train_c[:, [0, 1, 2, 3, 4, 5, 6, 7, 8, 9, 10, 11, 12, 13]]\r\n",
        "\r\n",
        "regressor_OLS = sm.OLS(y_train, X_opt).fit()\r\n",
        "print(regressor_OLS.summary())"
      ],
      "execution_count": null,
      "outputs": []
    },
    {
      "cell_type": "code",
      "metadata": {
        "id": "nw09SQBZ-tMc"
      },
      "source": [
        ""
      ],
      "execution_count": null,
      "outputs": []
    }
  ]
}