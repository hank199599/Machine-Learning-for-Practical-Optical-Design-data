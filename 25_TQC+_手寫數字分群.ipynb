{
  "nbformat": 4,
  "nbformat_minor": 0,
  "metadata": {
    "colab": {
      "name": "25_TQC+_手寫數字分群.ipynb",
      "provenance": [],
      "collapsed_sections": [],
      "include_colab_link": true
    },
    "kernelspec": {
      "name": "python3",
      "display_name": "Python 3"
    },
    "language_info": {
      "name": "python"
    }
  },
  "cells": [
    {
      "cell_type": "markdown",
      "metadata": {
        "id": "view-in-github",
        "colab_type": "text"
      },
      "source": [
        "<a href=\"https://colab.research.google.com/github/hank199599/Machine-Learning-for-Practical-Optical-Design-data/blob/main/25_TQC%2B_%E6%89%8B%E5%AF%AB%E6%95%B8%E5%AD%97%E5%88%86%E7%BE%A4.ipynb\" target=\"_parent\"><img src=\"https://colab.research.google.com/assets/colab-badge.svg\" alt=\"Open In Colab\"/></a>"
      ]
    },
    {
      "cell_type": "code",
      "metadata": {
        "id": "psS8ngzNiV-A"
      },
      "source": [
        "# #############################################################################\n",
        "# 本題參數設定，請勿更改\n",
        "seed = 0    # 亂數種子數\n",
        "# #############################################################################\n"
      ],
      "execution_count": null,
      "outputs": []
    },
    {
      "cell_type": "code",
      "metadata": {
        "id": "AnGCaflYii2M"
      },
      "source": [
        "# TODO\n",
        "\n",
        "import numpy as np\n",
        "from sklearn.datasets import load_digits\n",
        "\n",
        "# 載入手寫數字資料集\n",
        "X_digits =    #TODO    數值特徵\n",
        "y_digits =    #TODO    數字類別\n"
      ],
      "execution_count": null,
      "outputs": []
    },
    {
      "cell_type": "code",
      "metadata": {
        "id": "W9-zLJGfinmh"
      },
      "source": [
        "# 特徵標準化(scale/StandardScaler)\n",
        "from sklearn.preprocessing import scale\n",
        "from sklearn.preprocessing import StandardScaler\n",
        "# TODO\n"
      ],
      "execution_count": null,
      "outputs": []
    },
    {
      "cell_type": "code",
      "metadata": {
        "id": "gY0ByB8jirOJ"
      },
      "source": [
        "# 取出資料集的數字類別數\n",
        "n_digits = 10\n"
      ],
      "execution_count": null,
      "outputs": []
    },
    {
      "cell_type": "code",
      "metadata": {
        "id": "TMF4SfCxiudJ"
      },
      "source": [
        "# 建立兩個 K-Means 模型，除以下參數設定外，其餘為預設值\n",
        "# #############################################################################\n",
        "# kmean1: init='k-means++', n_clusters=n_digits, n_init=10, random_state=seed\n",
        "# kmean2: init='random', n_clusters=n_digits, n_init=10, random_state=seed\n",
        "# #############################################################################\n",
        "from sklearn.cluster import KMeans\n",
        "# TODO\n"
      ],
      "execution_count": null,
      "outputs": []
    },
    {
      "cell_type": "code",
      "metadata": {
        "id": "tlMHpGSJizFy"
      },
      "source": [
        "# 利用 PCA 結果建立 K-Means 模型，除以下參數設定外，其餘為預設值\n",
        "# #############################################################################\n",
        "# pca: n_components=n_digits, random_state=seed\n",
        "# kmean3: init=pca.components_, n_clusters=n_digits, n_init=1, random_state=seed\n",
        "# #############################################################################\n",
        "from sklearn.decomposition import PCA\n",
        "# TODO\n"
      ],
      "execution_count": null,
      "outputs": []
    },
    {
      "cell_type": "code",
      "metadata": {
        "id": "EItfUxfli1si"
      },
      "source": [
        "# 分別計算上述三個 K-Means 模型的輪廓係數(Silhouette coefficient)與分類準確率(accuracy)，除以下參數設定外，其餘為預設值\n",
        "# #############################################################################\n",
        "# silhouette_score: metric='euclidean'\n",
        "# #############################################################################\n",
        "from sklearn.metrics import silhouette_score\n",
        "from sklearn.metrics import accuracy_score\n",
        "lst_name = ['K-Mean (k-means++)', 'K-Means (random)', 'K-Means (PCA-based)']\n",
        "# TODO\n"
      ],
      "execution_count": null,
      "outputs": []
    },
    {
      "cell_type": "code",
      "metadata": {
        "id": "GTXi2_VGjCX7"
      },
      "source": [
        "# 進行 PCA 降維後再做 K-Means，除以下參數設定外，其餘為預設值\n",
        "# #############################################################################\n",
        "# kmeans: init='k-means++', n_clusters=n_digits, n_init=10, random_state=seed\n",
        "# PCA: n_components=2, random_state=seed\n",
        "# #############################################################################\n",
        "# TODO\n",
        "\n",
        "print('PCA+KMeans Silhouette=   '      )\n",
        "print('Accuracy=    '                 )"
      ],
      "execution_count": null,
      "outputs": []
    }
  ]
}