{
  "nbformat": 4,
  "nbformat_minor": 0,
  "metadata": {
    "colab": {
      "name": "05_TQC+_MLD01_NBA三分球得球數.ipynb",
      "provenance": [],
      "collapsed_sections": [],
      "include_colab_link": true
    },
    "kernelspec": {
      "name": "python3",
      "display_name": "Python 3"
    }
  },
  "cells": [
    {
      "cell_type": "markdown",
      "metadata": {
        "id": "view-in-github",
        "colab_type": "text"
      },
      "source": [
        "<a href=\"https://colab.research.google.com/github/hank199599/Machine-Learning-for-Practical-Optical-Design-data/blob/main/05_TQC%2B_MLD01_NBA%E4%B8%89%E5%88%86%E7%90%83%E5%BE%97%E7%90%83%E6%95%B8.ipynb\" target=\"_parent\"><img src=\"https://colab.research.google.com/assets/colab-badge.svg\" alt=\"Open In Colab\"/></a>"
      ]
    },
    {
      "cell_type": "code",
      "metadata": {
        "id": "UC-H1aGSCUaP"
      },
      "source": [
        "import pandas as pd\n",
        "import numpy as np\n",
        "from sklearn.linear_model import LinearRegression\n",
        "from sklearn.feature_selection import f_regression"
      ],
      "execution_count": 5,
      "outputs": []
    },
    {
      "cell_type": "code",
      "metadata": {
        "id": "9SWJNtv7Cswg",
        "outputId": "cca7178c-80a9-45ef-d9a9-c2be34edc141",
        "colab": {
          "base_uri": "https://localhost:8080/"
        }
      },
      "source": [
        "NBApoints_data= pd.read_csv(\"https://raw.githubusercontent.com/hank199599/Machine-Learning-for-Practical-Optical-Design-data/main/data/NBApoints.csv\")\n",
        "print(NBApoints_data.shape)"
      ],
      "execution_count": 6,
      "outputs": [
        {
          "output_type": "stream",
          "text": [
            "(476, 30)\n"
          ],
          "name": "stdout"
        }
      ]
    },
    {
      "cell_type": "code",
      "metadata": {
        "id": "_1B7YKznZC5C",
        "outputId": "021bfff4-b3d5-44e5-be7f-68888a58cc72",
        "colab": {
          "base_uri": "https://localhost:8080/"
        }
      },
      "source": [
        "print(NBApoints_data['Pos'])"
      ],
      "execution_count": 10,
      "outputs": [
        {
          "output_type": "stream",
          "text": [
            "0      PG\n",
            "1      SG\n",
            "2      SF\n",
            "3       C\n",
            "4      SF\n",
            "       ..\n",
            "471    SG\n",
            "472    SF\n",
            "473    SF\n",
            "474    SF\n",
            "475    PG\n",
            "Name: Pos, Length: 476, dtype: object\n"
          ],
          "name": "stdout"
        }
      ]
    },
    {
      "cell_type": "markdown",
      "metadata": {
        "id": "soJeh-JkDT3b"
      },
      "source": [
        "**資料說明**\n",
        "* Pk：排名\n",
        "* Player：球員\n",
        "* Pos：守備位置\n",
        "* Age：年齡\n",
        "* Tm：隊名"
      ]
    },
    {
      "cell_type": "markdown",
      "metadata": {
        "id": "Cy3oC4kHbWSy"
      },
      "source": [
        "請使用LabelEncoder取代NBApoints_data[\"Pos\"]以及NBApoints_data[\"Tm\"]的內容"
      ]
    },
    {
      "cell_type": "code",
      "metadata": {
        "id": "c90UxwFOC1GD",
        "outputId": "05cca99d-0b80-4272-accd-7c807b16680a",
        "colab": {
          "base_uri": "https://localhost:8080/"
        }
      },
      "source": [
        "# TODO\n",
        "from sklearn.preprocessing import LabelEncoder\n",
        "label_encoder_conver = LabelEncoder()\n",
        "NBApoints_data[\"Pos\"] = label_encoder_conver.fit_transform(NBApoints_data['Pos'])\n",
        "\n",
        "label_encoder_conver = LabelEncoder()\n",
        "NBApoints_data[\"Tm\"] = label_encoder_conver.fit_transform(NBApoints_data['Tm'])\n",
        "\n",
        "X_train = pd.DataFrame(NBApoints_data.T, ['Pos', 'Age', 'Tm']).T\n",
        "y_train = pd.DataFrame(NBApoints_data.T, ['3P']).T\n",
        "y_train = np.array(y_train, dtype='float')\n",
        "print(X_train.shape, y_train.shape)"
      ],
      "execution_count": 12,
      "outputs": [
        {
          "output_type": "stream",
          "text": [
            "(476, 3) (476, 1)\n"
          ],
          "name": "stdout"
        }
      ]
    },
    {
      "cell_type": "code",
      "metadata": {
        "id": "bM_XeiafDyhS"
      },
      "source": [
        "# TODO\n",
        "# Fit linear model"
      ],
      "execution_count": 13,
      "outputs": []
    },
    {
      "cell_type": "markdown",
      "metadata": {
        "id": "CYhIRg2wj85a"
      },
      "source": [
        "請問，當X=([[5, 28, 10]])，三分球得球數為何？"
      ]
    },
    {
      "cell_type": "code",
      "metadata": {
        "id": "ZrVOS1eYG_af"
      },
      "source": [
        "# TODO\n",
        "\n",
        "print(\"三分球得球數=\",NBApoints_linear_model_predict_result)\n",
        "print(\"R_squared值=\",r_squared)"
      ],
      "execution_count": null,
      "outputs": []
    },
    {
      "cell_type": "markdown",
      "metadata": {
        "id": "s0L_eTm_kgk2"
      },
      "source": [
        "請問，哪些特徵在反向淘汰下，可以被移除？(P-value是否小於0.05)"
      ]
    },
    {
      "cell_type": "code",
      "metadata": {
        "id": "r-hUzQf-He8P"
      },
      "source": [
        "# TODO\n",
        "import statsmodels.api as sm\n",
        "\n",
        "regressor_OLS = sm.OLS(y_train, X_train_c).fit()\n",
        "print(regressor_OLS.summary())"
      ],
      "execution_count": null,
      "outputs": []
    },
    {
      "cell_type": "code",
      "metadata": {
        "id": "s025Bv2sLDbd"
      },
      "source": [
        ""
      ],
      "execution_count": null,
      "outputs": []
    }
  ]
}