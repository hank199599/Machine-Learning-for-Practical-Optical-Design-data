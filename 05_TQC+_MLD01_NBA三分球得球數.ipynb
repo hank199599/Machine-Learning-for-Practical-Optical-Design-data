{
  "nbformat": 4,
  "nbformat_minor": 0,
  "metadata": {
    "colab": {
      "name": "05_TQC+_MLD01_NBA三分球得球數.ipynb",
      "provenance": [],
      "collapsed_sections": [],
      "include_colab_link": true
    },
    "kernelspec": {
      "name": "python3",
      "display_name": "Python 3"
    }
  },
  "cells": [
    {
      "cell_type": "markdown",
      "metadata": {
        "id": "view-in-github",
        "colab_type": "text"
      },
      "source": [
        "<a href=\"https://colab.research.google.com/github/hank199599/Machine-Learning-for-Practical-Optical-Design-data/blob/main/05_TQC%2B_MLD01_NBA%E4%B8%89%E5%88%86%E7%90%83%E5%BE%97%E7%90%83%E6%95%B8.ipynb\" target=\"_parent\"><img src=\"https://colab.research.google.com/assets/colab-badge.svg\" alt=\"Open In Colab\"/></a>"
      ]
    },
    {
      "cell_type": "code",
      "metadata": {
        "id": "UC-H1aGSCUaP"
      },
      "source": [
        "import pandas as pd\r\n",
        "import numpy as np\r\n",
        "from sklearn.linear_model import LinearRegression\r\n",
        "from sklearn.feature_selection import f_regression"
      ],
      "execution_count": null,
      "outputs": []
    },
    {
      "cell_type": "code",
      "metadata": {
        "id": "9SWJNtv7Cswg"
      },
      "source": [
        "NBApoints_data= pd.read_csv(\"NBApoints.csv\")\r\n",
        "print(NBApoints_data.shape)"
      ],
      "execution_count": null,
      "outputs": []
    },
    {
      "cell_type": "markdown",
      "metadata": {
        "id": "soJeh-JkDT3b"
      },
      "source": [
        "**資料說明**\r\n",
        "* Pk：排名\r\n",
        "* Player：球員\r\n",
        "* Pos：守備位置\r\n",
        "* Age：年齡\r\n",
        "* Tm：隊名"
      ]
    },
    {
      "cell_type": "markdown",
      "metadata": {
        "id": "Cy3oC4kHbWSy"
      },
      "source": [
        "請使用LabelEncoder取代NBApoints_data[\"Pos\"]以及NBApoints_data[\"Tm\"]的內容"
      ]
    },
    {
      "cell_type": "code",
      "metadata": {
        "id": "c90UxwFOC1GD"
      },
      "source": [
        "# TODO\r\n",
        "from sklearn.preprocessing import LabelEncoder\r\n",
        "label_encoder_conver = \r\n",
        "NBApoints_data[\"Pos\"] = \r\n",
        "\r\n",
        "label_encoder_conver = \r\n",
        "NBApoints_data[\"Tm\"] = \r\n",
        "\r\n",
        "X_train = pd.DataFrame(NBApoints_data.T, ['Pos', 'Age', 'Tm']).T\r\n",
        "y_train = pd.DataFrame(NBApoints_data.T, ['3P']).T\r\n",
        "y_train = np.array(y_train, dtype='float')\r\n",
        "print(X_train.shape, y_train.shape)"
      ],
      "execution_count": null,
      "outputs": []
    },
    {
      "cell_type": "code",
      "metadata": {
        "id": "bM_XeiafDyhS"
      },
      "source": [
        "# TODO\r\n",
        "# Fit linear model"
      ],
      "execution_count": null,
      "outputs": []
    },
    {
      "cell_type": "markdown",
      "metadata": {
        "id": "CYhIRg2wj85a"
      },
      "source": [
        "請問，當X=([[5, 28, 10]])，三分球得球數為何？"
      ]
    },
    {
      "cell_type": "code",
      "metadata": {
        "id": "ZrVOS1eYG_af"
      },
      "source": [
        "# TODO\r\n",
        "\r\n",
        "print(\"三分球得球數=\",NBApoints_linear_model_predict_result)\r\n",
        "print(\"R_squared值=\",r_squared)"
      ],
      "execution_count": null,
      "outputs": []
    },
    {
      "cell_type": "markdown",
      "metadata": {
        "id": "s0L_eTm_kgk2"
      },
      "source": [
        "請問，哪些特徵在反向淘汰下，可以被移除？(P-value是否小於0.05)"
      ]
    },
    {
      "cell_type": "code",
      "metadata": {
        "id": "r-hUzQf-He8P"
      },
      "source": [
        "# TODO\r\n",
        "import statsmodels.api as sm\r\n",
        "\r\n",
        "regressor_OLS = sm.OLS(y_train, X_train_c).fit()\r\n",
        "print(regressor_OLS.summary())"
      ],
      "execution_count": null,
      "outputs": []
    },
    {
      "cell_type": "code",
      "metadata": {
        "id": "s025Bv2sLDbd"
      },
      "source": [
        ""
      ],
      "execution_count": null,
      "outputs": []
    }
  ]
}