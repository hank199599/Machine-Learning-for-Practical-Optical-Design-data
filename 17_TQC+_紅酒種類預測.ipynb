{
  "nbformat": 4,
  "nbformat_minor": 0,
  "metadata": {
    "colab": {
      "name": "17_TQC+_紅酒種類預測.ipynb",
      "provenance": [],
      "collapsed_sections": [],
      "include_colab_link": true
    },
    "kernelspec": {
      "name": "python3",
      "display_name": "Python 3"
    },
    "language_info": {
      "name": "python"
    }
  },
  "cells": [
    {
      "cell_type": "markdown",
      "metadata": {
        "id": "view-in-github",
        "colab_type": "text"
      },
      "source": [
        "<a href=\"https://colab.research.google.com/github/hank199599/Machine-Learning-for-Practical-Optical-Design-data/blob/main/17_TQC%2B_%E7%B4%85%E9%85%92%E7%A8%AE%E9%A1%9E%E9%A0%90%E6%B8%AC.ipynb\" target=\"_parent\"><img src=\"https://colab.research.google.com/assets/colab-badge.svg\" alt=\"Open In Colab\"/></a>"
      ]
    },
    {
      "cell_type": "code",
      "metadata": {
        "id": "IkvuROUyeVFo"
      },
      "source": [
        "import numpy as np\n",
        "\n",
        "input_file = 'wine.csv'\n"
      ],
      "execution_count": null,
      "outputs": []
    },
    {
      "cell_type": "markdown",
      "metadata": {
        "id": "kLAbs7dkfHfL"
      },
      "source": [
        "1. 欄位0(Target)：紅酒的分類，共3類\n",
        "2. 欄位1~13(Data)：各種紅酒中，各項化學成分檢驗結果，例如：酒精、頻果酸、鎂、黃酮、顏色強度、色澤等"
      ]
    },
    {
      "cell_type": "code",
      "metadata": {
        "id": "W-yDP7VwzlJ9"
      },
      "source": [
        "X = []\n",
        "y = []\n"
      ],
      "execution_count": null,
      "outputs": []
    },
    {
      "cell_type": "code",
      "metadata": {
        "id": "tZWBth7De5Xh"
      },
      "source": [
        "# TODO\n",
        "# 75% 為訓練資料集、25%為測試資料集，random_state=5\n",
        "\n",
        "from sklearn import model_selection\n",
        "\n",
        "X_train, X_test, y_train, y_test = \n"
      ],
      "execution_count": null,
      "outputs": []
    },
    {
      "cell_type": "code",
      "metadata": {
        "id": "K8bHVgzX0nuU"
      },
      "source": [
        "from sklearn.tree import DecisionTreeClassifier\n",
        "\n"
      ],
      "execution_count": null,
      "outputs": []
    },
    {
      "cell_type": "code",
      "metadata": {
        "id": "TwyAB0Jde7hw"
      },
      "source": [
        "# TODO\n",
        "# compute accuracy of the classifier計算分類器的精確度\n",
        "# 使用round函數\n",
        "\n",
        "accuracy = \n",
        "print(\"Accuracy of the classifier =\", , \"%\") # 小數點後第二位\n"
      ],
      "execution_count": null,
      "outputs": []
    },
    {
      "cell_type": "code",
      "metadata": {
        "id": "5hQbwgizgVqg"
      },
      "source": [
        "# TODO\n",
        "\n",
        "X_test1 =[[1.51, 1.73, 1.98, 20.15, 85, 2.2, 1.92, .32, 1.48, 2.94, 1, 3.57, 172]]\n",
        "X_test2 = [[14.23, 1.71, 2.43, 15.6, 127, 2.8, 3.06, .28, 2.29, 5.64, 1.04, 3.92, 1065]]\n",
        "X_test3 = [[13.71, 5.65, 2.45, 20.5, 95, 1.68, .61, .52, 1.06, 7.7, .64, 1.74, 720]]\n"
      ],
      "execution_count": null,
      "outputs": []
    }
  ]
}