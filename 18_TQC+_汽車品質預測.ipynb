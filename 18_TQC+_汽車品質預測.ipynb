{
  "nbformat": 4,
  "nbformat_minor": 0,
  "metadata": {
    "colab": {
      "name": "18_TQC+_汽車品質預測.ipynb",
      "provenance": [],
      "collapsed_sections": [],
      "include_colab_link": true
    },
    "kernelspec": {
      "name": "python3",
      "display_name": "Python 3"
    },
    "language_info": {
      "name": "python"
    }
  },
  "cells": [
    {
      "cell_type": "markdown",
      "metadata": {
        "id": "view-in-github",
        "colab_type": "text"
      },
      "source": [
        "<a href=\"https://colab.research.google.com/github/hank199599/Machine-Learning-for-Practical-Optical-Design-data/blob/main/18_TQC%2B_%E6%B1%BD%E8%BB%8A%E5%93%81%E8%B3%AA%E9%A0%90%E6%B8%AC.ipynb\" target=\"_parent\"><img src=\"https://colab.research.google.com/assets/colab-badge.svg\" alt=\"Open In Colab\"/></a>"
      ]
    },
    {
      "cell_type": "code",
      "metadata": {
        "id": "UoqDsJjWeYKm"
      },
      "source": [
        "import numpy as np\n",
        "from sklearn import preprocessing\n",
        "from sklearn.ensemble import RandomForestClassifier\n",
        "#import matplotlib.pyplot as plt"
      ],
      "execution_count": null,
      "outputs": []
    },
    {
      "cell_type": "code",
      "metadata": {
        "id": "7FkSVd8wg1Dl"
      },
      "source": [
        "input_file = 'cardata.txt'\n",
        "\n",
        "# Reading the data\n",
        "X = []\n",
        "y = []"
      ],
      "execution_count": null,
      "outputs": []
    },
    {
      "cell_type": "markdown",
      "metadata": {
        "id": "-WRNLVebhvL1"
      },
      "source": [
        "資料說明\n",
        "1. buying：買價 (vhigh、high、med、low)\n",
        "2. maint：維修保養價格 (vhigh、high、med、low)\n",
        "3. doors：門數 (2、3、4、5、5more)\n",
        "4. persons：載人量 (2、4、more)\n",
        "5. lug_boot：行李箱大小 (small、med、big)\n",
        "6. safety：安全 (low、med、high)\n",
        "7. car：汽車可接受度 (unacc、acc、good、vgood)"
      ]
    },
    {
      "cell_type": "code",
      "metadata": {
        "id": "c6y_SVS9g32s"
      },
      "source": [
        "# Convert string data to numerical data將字串資料轉換為數值資料\n",
        "# TODO"
      ],
      "execution_count": null,
      "outputs": []
    },
    {
      "cell_type": "code",
      "metadata": {
        "id": "uBaGoobSg7li"
      },
      "source": [
        "# Build a Random Forest classifier建立隨機森林分類器\n",
        "# three-dold cross-validation\n",
        "# n_estimators=200, max_depth=8, random_state=7\n",
        "# TODO"
      ],
      "execution_count": null,
      "outputs": []
    },
    {
      "cell_type": "code",
      "metadata": {
        "id": "23awJhYBg9IE"
      },
      "source": [
        "# Cross validation交叉驗證\n",
        "from sklearn import model_selection\n",
        "# TODO"
      ],
      "execution_count": null,
      "outputs": []
    },
    {
      "cell_type": "code",
      "metadata": {
        "id": "TMnpXUKKhAxY"
      },
      "source": [
        "print(\"Accuracy of the classifier=\" +        + \"%\")\n"
      ],
      "execution_count": null,
      "outputs": []
    },
    {
      "cell_type": "code",
      "metadata": {
        "id": "H-4rIP_GhC3_"
      },
      "source": [
        "# Testing encoding on single data instance測試單個資料實例上的編碼\n",
        "input_data = ['high', 'low', '2', 'more', 'med', 'high']\n",
        "# TODO"
      ],
      "execution_count": null,
      "outputs": []
    },
    {
      "cell_type": "code",
      "metadata": {
        "id": "0iWuzC__hGtx"
      },
      "source": [
        "# Predict and print output for a particular datapoint\n",
        "# TODO\n",
        "print(\"Output class=\"                     )\n"
      ],
      "execution_count": null,
      "outputs": []
    },
    {
      "cell_type": "code",
      "metadata": {
        "id": "Cw0eNqzWhLNI"
      },
      "source": [
        "########################\n",
        "# Validation curves 驗證曲線\n",
        "\n",
        "# TODO"
      ],
      "execution_count": null,
      "outputs": []
    },
    {
      "cell_type": "code",
      "metadata": {
        "id": "T5UiPCpKhM9E"
      },
      "source": [
        "# 最佳化超參數n_estimators，設定max_depth=8, random_state=7, parameter_grid=np.linspace(25, 200, 8).astype(int), cv=5\n",
        "train_scores, validation_scores = validation_curve(classifier, X, y, \n",
        "        \"n_estimators\", parameter_grid, cv=5)\n",
        "print(\"##### VALIDATION CURVES #####\")\n",
        "print(\"\\nParam: n_estimators\\nTraining scores:\\n\", train_scores)\n",
        "print(\"\\nParam: n_estimators\\nValidation scores:\\n\", validation_scores)"
      ],
      "execution_count": null,
      "outputs": []
    }
  ]
}