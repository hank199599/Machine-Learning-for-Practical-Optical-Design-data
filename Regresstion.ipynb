{
  "nbformat": 4,
  "nbformat_minor": 0,
  "metadata": {
    "colab": {
      "name": "Regresstion.ipynb",
      "provenance": [],
      "collapsed_sections": [],
      "authorship_tag": "ABX9TyODJe6+OooNd6yJxQ2Fym9H",
      "include_colab_link": true
    },
    "kernelspec": {
      "name": "python3",
      "display_name": "Python 3"
    }
  },
  "cells": [
    {
      "cell_type": "markdown",
      "metadata": {
        "id": "view-in-github",
        "colab_type": "text"
      },
      "source": [
        "<a href=\"https://colab.research.google.com/github/hank199599/Machine-Learning-for-Practical-Optical-Design-data/blob/main/Regresstion.ipynb\" target=\"_parent\"><img src=\"https://colab.research.google.com/assets/colab-badge.svg\" alt=\"Open In Colab\"/></a>"
      ]
    },
    {
      "cell_type": "markdown",
      "metadata": {
        "id": "ZnmL42Hp0gAM"
      },
      "source": [
        "# 簡單線性迴歸\n",
        "Simple Linear Regression"
      ]
    },
    {
      "cell_type": "code",
      "metadata": {
        "id": "wTQ9UegE0kmT"
      },
      "source": [
        "import numpy as np\n",
        "import matplotlib.pyplot as plt\n",
        "import pandas as pd"
      ],
      "execution_count": null,
      "outputs": []
    },
    {
      "cell_type": "code",
      "metadata": {
        "colab": {
          "base_uri": "https://localhost:8080/"
        },
        "id": "BglUKhdD0mmb",
        "outputId": "d3c7dd33-25ab-4804-c854-eac974108ff4"
      },
      "source": [
        "dataset = pd.read_csv('https://raw.githubusercontent.com/hank199599/Machine-Learning-for-Practical-Optical-Design-data/main/data/Salary_Data.csv')\n",
        "X = dataset.iloc[:, :-1].values\n",
        "y = dataset.iloc[:, 1].values\n",
        "print(X.shape, y.shape)"
      ],
      "execution_count": null,
      "outputs": [
        {
          "output_type": "stream",
          "text": [
            "(30, 1) (30,)\n"
          ],
          "name": "stdout"
        }
      ]
    },
    {
      "cell_type": "code",
      "metadata": {
        "id": "pHrYnXwp019D"
      },
      "source": [
        "from sklearn.model_selection import train_test_split\n",
        "X_train, X_test, y_train, y_test = train_test_split(X, y, test_size = 1/3, random_state = 0)"
      ],
      "execution_count": null,
      "outputs": []
    },
    {
      "cell_type": "code",
      "metadata": {
        "colab": {
          "base_uri": "https://localhost:8080/"
        },
        "id": "D5IHY6NH037z",
        "outputId": "6e311356-0d48-461e-f6f0-b33949787a0d"
      },
      "source": [
        "from sklearn.linear_model import LinearRegression\n",
        "regressor = LinearRegression()\n",
        "regressor.fit(X_train, y_train)"
      ],
      "execution_count": null,
      "outputs": [
        {
          "output_type": "execute_result",
          "data": {
            "text/plain": [
              "LinearRegression(copy_X=True, fit_intercept=True, n_jobs=None, normalize=False)"
            ]
          },
          "metadata": {
            "tags": []
          },
          "execution_count": 109
        }
      ]
    },
    {
      "cell_type": "code",
      "metadata": {
        "colab": {
          "base_uri": "https://localhost:8080/"
        },
        "id": "9qNvYtRR1uH3",
        "outputId": "d88e9895-b65b-4ec8-bee8-e1f4dae75e21"
      },
      "source": [
        "y_predic = regressor.predict(y_train.reshape(-1,1))\n",
        "y_predic"
      ],
      "execution_count": null,
      "outputs": [
        {
          "output_type": "execute_result",
          "data": {
            "text/plain": [
              "array([5.29399688e+08, 6.17130050e+08, 6.02326077e+08, 5.71166705e+08,\n",
              "       1.06370722e+09, 8.57404884e+08, 4.31856087e+08, 1.13903551e+09,\n",
              "       5.62185254e+08, 3.72845806e+08, 7.60440731e+08, 8.77984649e+08,\n",
              "       5.34511919e+08, 5.08866653e+08, 9.86790111e+08, 4.06808961e+08,\n",
              "       3.67724230e+08, 9.18480618e+08, 6.34971454e+08, 5.32343660e+08])"
            ]
          },
          "metadata": {
            "tags": []
          },
          "execution_count": 110
        }
      ]
    },
    {
      "cell_type": "code",
      "metadata": {
        "colab": {
          "base_uri": "https://localhost:8080/",
          "height": 295
        },
        "id": "poOJxXQp1Vmr",
        "outputId": "00a6c2cd-bd0f-41eb-c2e9-965a97554993"
      },
      "source": [
        "plt.scatter(X_train,y_train,color='g',label=\"Train\")\n",
        "plt.scatter(X_test,y_test,color='b',label=\"Test\")\n",
        "plt.plot(X_train,regressor.predict(X_train),color='r')\n",
        "\n",
        "plt.title('Salary VS Experience (training set)')\n",
        "plt.xlabel('Year of Experience')\n",
        "plt.ylabel('Salary')\n",
        "plt.show()"
      ],
      "execution_count": null,
      "outputs": [
        {
          "output_type": "display_data",
          "data": {
            "image/png": "[encoded data removed]",
            "text/plain": [
              "<Figure size 432x288 with 1 Axes>"
            ]
          },
          "metadata": {
            "tags": [],
            "needs_background": "light"
          }
        }
      ]
    },
    {
      "cell_type": "markdown",
      "metadata": {
        "id": "3fVPUqAEkb3-"
      },
      "source": [
        "# [polynirial Regression](https://scikit-learn.org/stable/modules/generated/sklearn.preprocessing.PolynomialFeatures.html)\n",
        "Generate a new feature matrix consisting of all polynomial combinations of the features with degree less than or equal to the specified degree. For example, if an input sample is two dimensional and of the form [a, b], the degree-2 polynomial features are [1, a, b, a^2, ab, b^2]."
      ]
    },
    {
      "cell_type": "markdown",
      "metadata": {
        "id": "bknSIHoyrzN9"
      },
      "source": [
        "## 一維線性迴歸"
      ]
    },
    {
      "cell_type": "code",
      "metadata": {
        "id": "C8oh0tKgkhhf"
      },
      "source": [
        "import numpy as np\n",
        "import matplotlib.pyplot as plt\n",
        "import pandas as pd"
      ],
      "execution_count": null,
      "outputs": []
    },
    {
      "cell_type": "code",
      "metadata": {
        "colab": {
          "base_uri": "https://localhost:8080/"
        },
        "id": "jRiVbGL1khhg",
        "outputId": "4201ed4a-e220-4a3f-8596-270bc76ab230"
      },
      "source": [
        "dataset = pd.read_csv('https://raw.githubusercontent.com/hank199599/Machine-Learning-for-Practical-Optical-Design-data/main/data/Position_Salaries.csv')\n",
        "X = dataset.iloc[:, 1:-1].values\n",
        "y = dataset.iloc[:, 2].values\n",
        "print(X.shape, y.shape)"
      ],
      "execution_count": null,
      "outputs": [
        {
          "output_type": "stream",
          "text": [
            "(10, 1) (10,)\n"
          ],
          "name": "stdout"
        }
      ]
    },
    {
      "cell_type": "code",
      "metadata": {
        "colab": {
          "base_uri": "https://localhost:8080/"
        },
        "id": "cJbVye1DkrMT",
        "outputId": "d9a10139-9e37-474e-f9cc-ef6f46a13d5d"
      },
      "source": [
        "from sklearn.linear_model import LinearRegression\n",
        "\n",
        "lin_reg = LinearRegression()\n",
        "lin_reg.fit(X, y)"
      ],
      "execution_count": null,
      "outputs": [
        {
          "output_type": "execute_result",
          "data": {
            "text/plain": [
              "LinearRegression(copy_X=True, fit_intercept=True, n_jobs=None, normalize=False)"
            ]
          },
          "metadata": {
            "tags": []
          },
          "execution_count": 114
        }
      ]
    },
    {
      "cell_type": "code",
      "metadata": {
        "colab": {
          "base_uri": "https://localhost:8080/",
          "height": 295
        },
        "id": "rLeaB3APkrMa",
        "outputId": "c9280f90-d395-4cdf-8c6e-e6348cf8c9c8"
      },
      "source": [
        "plt.scatter(X, y, color = 'red')\n",
        "plt.plot(X, lin_reg.predict(X), color = 'blue')\n",
        "plt.title('Truth or Bluff (Linear Regression)')\n",
        "plt.xlabel('Position Level')\n",
        "plt.ylabel('Salary')\n",
        "plt.show()"
      ],
      "execution_count": null,
      "outputs": [
        {
          "output_type": "display_data",
          "data": {
            "image/png": "[encoded data removed]",
            "text/plain": [
              "<Figure size 432x288 with 1 Axes>"
            ]
          },
          "metadata": {
            "tags": [],
            "needs_background": "light"
          }
        }
      ]
    },
    {
      "cell_type": "markdown",
      "metadata": {
        "id": "ywDL9TrTsHRw"
      },
      "source": [
        "計算R ssore計算R ssore"
      ]
    },
    {
      "cell_type": "code",
      "metadata": {
        "colab": {
          "base_uri": "https://localhost:8080/"
        },
        "id": "vapfXkiqsKKb",
        "outputId": "db7bb890-d977-4d97-f42d-ab39a503bd0a"
      },
      "source": [
        "print(\"reg1 coef=\", lin_reg.coef_)\n",
        "print(\"reg1 intercept=\", lin_reg.intercept_)\n",
        "print('score = %.4f' %lin_reg.score(X, y))"
      ],
      "execution_count": null,
      "outputs": [
        {
          "output_type": "stream",
          "text": [
            "reg1 coef= [80878.78787879]\n",
            "reg1 intercept= -195333.33333333337\n",
            "score = 0.6690\n"
          ],
          "name": "stdout"
        }
      ]
    },
    {
      "cell_type": "markdown",
      "metadata": {
        "id": "gC_A7Rg0w07Q"
      },
      "source": [
        "增加懲罰項的R score\n"
      ]
    },
    {
      "cell_type": "code",
      "metadata": {
        "colab": {
          "base_uri": "https://localhost:8080/"
        },
        "id": "bFXa5OpEw5DP",
        "outputId": "aed77fda-177e-4fe8-b9e9-7df0d2262790"
      },
      "source": [
        "R2 = lin_reg.score(X, y)\n",
        "AR2 = 1 - (1 - R2) * (len(y) - 1) / (len(y) - X.shape[1] - 1)\n",
        "print(R2, AR2)"
      ],
      "execution_count": null,
      "outputs": [
        {
          "output_type": "stream",
          "text": [
            "0.6690412331929895 0.6276713873421131\n"
          ],
          "name": "stdout"
        }
      ]
    },
    {
      "cell_type": "markdown",
      "metadata": {
        "id": "TL15M8Per-wf"
      },
      "source": [
        "## 二維線性迴歸\n"
      ]
    },
    {
      "cell_type": "code",
      "metadata": {
        "colab": {
          "base_uri": "https://localhost:8080/"
        },
        "id": "X9d62-LZsZiX",
        "outputId": "b1f1ae90-cc3b-41ae-c6a8-4c08e112fa93"
      },
      "source": [
        "from sklearn.preprocessing import PolynomialFeatures\n",
        "poly_reg_2 = PolynomialFeatures(degree = 2)\n",
        "X_poly_2 = poly_reg_2.fit_transform(X)\n",
        "lin_reg_2 = LinearRegression()\n",
        "lin_reg_2.fit(X_poly_2, y)\n",
        "\n",
        "print('score = %.4f' %lin_reg_2.score(X_poly_2, y))"
      ],
      "execution_count": null,
      "outputs": [
        {
          "output_type": "stream",
          "text": [
            "score = 0.9162\n"
          ],
          "name": "stdout"
        }
      ]
    },
    {
      "cell_type": "code",
      "metadata": {
        "colab": {
          "base_uri": "https://localhost:8080/",
          "height": 295
        },
        "id": "0sFtEg4Fsas3",
        "outputId": "b6584642-b022-437c-8cfc-29f48933f4df"
      },
      "source": [
        "# Visualising the Polynomial Regression Results\n",
        "plt.scatter(X, y, color = 'red')\n",
        "plt.plot(X, lin_reg_2.predict(X_poly_2), color = 'blue')\n",
        "plt.title('Truth or Bluff (Polynomal Regression)')\n",
        "plt.xlabel('Position Level')\n",
        "plt.ylabel('Salary')\n",
        "plt.show()"
      ],
      "execution_count": null,
      "outputs": [
        {
          "output_type": "display_data",
          "data": {
            "image/png": "[encoded data removed]",
            "text/plain": [
              "<Figure size 432x288 with 1 Axes>"
            ]
          },
          "metadata": {
            "tags": [],
            "needs_background": "light"
          }
        }
      ]
    },
    {
      "cell_type": "markdown",
      "metadata": {
        "id": "El1zDbmiw_wj"
      },
      "source": [
        "增加懲罰項的R score\n"
      ]
    },
    {
      "cell_type": "code",
      "metadata": {
        "colab": {
          "base_uri": "https://localhost:8080/"
        },
        "id": "TcG7wNjBw_wl",
        "outputId": "03265b24-5f1d-4f3f-984b-7238b644cb3f"
      },
      "source": [
        "R2 = lin_reg_2.score(X_poly_2, y)\n",
        "AR2 = 1 - (1 - R2) * (len(y) - 1) / (len(y) - X_poly_2.shape[1] - 2)\n",
        "print(R2, AR2)"
      ],
      "execution_count": null,
      "outputs": [
        {
          "output_type": "stream",
          "text": [
            "0.9162082221443942 0.8491747998599096\n"
          ],
          "name": "stdout"
        }
      ]
    },
    {
      "cell_type": "markdown",
      "metadata": {
        "id": "vxIGOMNussy0"
      },
      "source": [
        "## 三維線性迴歸\n"
      ]
    },
    {
      "cell_type": "code",
      "metadata": {
        "colab": {
          "base_uri": "https://localhost:8080/"
        },
        "id": "R1-KETdkssy-",
        "outputId": "d259643b-1633-4970-f1ab-884466615452"
      },
      "source": [
        "from sklearn.preprocessing import PolynomialFeatures\n",
        "poly_reg_3 = PolynomialFeatures(degree = 3)\n",
        "X_poly_3 = poly_reg_3.fit_transform(X)\n",
        "lin_reg_3 = LinearRegression()\n",
        "lin_reg_3.fit(X_poly_3, y)\n",
        "\n",
        "print('score = %.4f' %lin_reg_3.score(X_poly_3, y))"
      ],
      "execution_count": null,
      "outputs": [
        {
          "output_type": "stream",
          "text": [
            "score = 0.9812\n"
          ],
          "name": "stdout"
        }
      ]
    },
    {
      "cell_type": "code",
      "metadata": {
        "colab": {
          "base_uri": "https://localhost:8080/",
          "height": 295
        },
        "id": "OJIcARw6sszC",
        "outputId": "f46e6315-1288-4eec-a363-f8e66e80e625"
      },
      "source": [
        "# Visualising the Polynomial Regression Results\n",
        "plt.scatter(X, y, color = 'red')\n",
        "plt.plot(X, lin_reg_3.predict(X_poly_3), color = 'blue')\n",
        "plt.title('Truth or Bluff (Polynomal Regression)')\n",
        "plt.xlabel('Position Level')\n",
        "plt.ylabel('Salary')\n",
        "plt.show()"
      ],
      "execution_count": null,
      "outputs": [
        {
          "output_type": "display_data",
          "data": {
            "image/png": "[encoded data removed]",
            "text/plain": [
              "<Figure size 432x288 with 1 Axes>"
            ]
          },
          "metadata": {
            "tags": [],
            "needs_background": "light"
          }
        }
      ]
    },
    {
      "cell_type": "markdown",
      "metadata": {
        "id": "X8Xk58I4xGMU"
      },
      "source": [
        "增加懲罰項的R score\n"
      ]
    },
    {
      "cell_type": "code",
      "metadata": {
        "colab": {
          "base_uri": "https://localhost:8080/"
        },
        "id": "-P2mp77kxGMV",
        "outputId": "19e1a2be-dcd1-4652-e868-a095f402c755"
      },
      "source": [
        "R2 = lin_reg_3.score(X_poly_3, y)\n",
        "AR2 = 1 - (1 - R2) * (len(y) - 1) / (len(y) - X_poly_3.shape[1] - 2)\n",
        "print(R2, AR2)"
      ],
      "execution_count": null,
      "outputs": [
        {
          "output_type": "stream",
          "text": [
            "0.9812097727913367 0.9577219887805075\n"
          ],
          "name": "stdout"
        }
      ]
    },
    {
      "cell_type": "markdown",
      "metadata": {
        "id": "RjZ_moIcs36F"
      },
      "source": [
        "## 四維線性迴歸\n"
      ]
    },
    {
      "cell_type": "code",
      "metadata": {
        "colab": {
          "base_uri": "https://localhost:8080/"
        },
        "id": "HPDwoG6Us36Q",
        "outputId": "4c984a15-b15e-469d-d89e-27e8aba2ca06"
      },
      "source": [
        "from sklearn.preprocessing import PolynomialFeatures\n",
        "poly_reg_4 = PolynomialFeatures(degree = 4)\n",
        "X_poly_4 = poly_reg_4.fit_transform(X)\n",
        "lin_reg_4 = LinearRegression()\n",
        "lin_reg_4.fit(X_poly_4, y)\n",
        "\n",
        "print('score = %.4f' %lin_reg_4.score(X_poly_4, y))"
      ],
      "execution_count": null,
      "outputs": [
        {
          "output_type": "stream",
          "text": [
            "score = 0.9974\n"
          ],
          "name": "stdout"
        }
      ]
    },
    {
      "cell_type": "code",
      "metadata": {
        "colab": {
          "base_uri": "https://localhost:8080/",
          "height": 295
        },
        "id": "BUry6oQSs36T",
        "outputId": "25e4f65d-a2c4-4720-a697-22c11ee528ff"
      },
      "source": [
        "# Visualising the Polynomial Regression Results\n",
        "plt.scatter(X, y, color = 'red')\n",
        "plt.plot(X, lin_reg_4.predict(X_poly_4), color = 'blue')\n",
        "plt.title('Truth or Bluff (Polynomal Regression)')\n",
        "plt.xlabel('Position Level')\n",
        "plt.ylabel('Salary')\n",
        "plt.show()"
      ],
      "execution_count": null,
      "outputs": [
        {
          "output_type": "display_data",
          "data": {
            "image/png": "[encoded data removed]",
            "text/plain": [
              "<Figure size 432x288 with 1 Axes>"
            ]
          },
          "metadata": {
            "tags": [],
            "needs_background": "light"
          }
        }
      ]
    },
    {
      "cell_type": "markdown",
      "metadata": {
        "id": "MC3lZRcxxHQj"
      },
      "source": [
        "增加懲罰項的R score\n"
      ]
    },
    {
      "cell_type": "code",
      "metadata": {
        "colab": {
          "base_uri": "https://localhost:8080/"
        },
        "id": "RalUCFFWxHQk",
        "outputId": "35313e9d-9196-4880-9dd7-764f923b8b75"
      },
      "source": [
        "R2 = lin_reg_4.score(X_poly_4, y)\n",
        "AR2 = 1 - (1 - R2) * (len(y) - 1) / (len(y) - X_poly_4.shape[1] - 2)\n",
        "print(R2, AR2)"
      ],
      "execution_count": null,
      "outputs": [
        {
          "output_type": "stream",
          "text": [
            "0.9973922891706614 0.9921768675119841\n"
          ],
          "name": "stdout"
        }
      ]
    },
    {
      "cell_type": "markdown",
      "metadata": {
        "id": "-RMRFSe_x4zP"
      },
      "source": [
        "# Multiple Linear Regression"
      ]
    },
    {
      "cell_type": "code",
      "metadata": {
        "id": "8fSCE2xoyHq1"
      },
      "source": [
        "import numpy as np\n",
        "import matplotlib.pyplot as plt\n",
        "import pandas as pd"
      ],
      "execution_count": null,
      "outputs": []
    },
    {
      "cell_type": "code",
      "metadata": {
        "colab": {
          "base_uri": "https://localhost:8080/"
        },
        "id": "fnmBOIBkyHq2",
        "outputId": "92700340-a247-4a2d-a917-f6ffd2f18586"
      },
      "source": [
        "dataset = pd.read_csv('https://raw.githubusercontent.com/hank199599/Machine-Learning-for-Practical-Optical-Design-data/main/data/50_Startups.csv')\n",
        "X = dataset.iloc[:, :-1].values\n",
        "y = dataset.iloc[:, 4].values\n",
        "\n",
        "print(X.shape, y.shape)"
      ],
      "execution_count": null,
      "outputs": [
        {
          "output_type": "stream",
          "text": [
            "(50, 4) (50,)\n"
          ],
          "name": "stdout"
        }
      ]
    },
    {
      "cell_type": "markdown",
      "metadata": {
        "id": "SE1hd4Nt2BSv"
      },
      "source": [
        "Avoiding the Dummy Variable Trap"
      ]
    },
    {
      "cell_type": "code",
      "metadata": {
        "id": "ZNNgS6X01-p_",
        "colab": {
          "base_uri": "https://localhost:8080/"
        },
        "outputId": "62f8a360-43b0-4624-ee2f-814ed9c1eb27"
      },
      "source": [
        "X = X[:, 1:]\n",
        "print(X[0:5,:])"
      ],
      "execution_count": null,
      "outputs": [
        {
          "output_type": "stream",
          "text": [
            "[[136897.8 471784.1 'New York']\n",
            " [151377.59 443898.53 'California']\n",
            " [101145.55 407934.54 'Florida']\n",
            " [118671.85 383199.62 'New York']\n",
            " [91391.77 366168.42 'Florida']]\n"
          ],
          "name": "stdout"
        }
      ]
    },
    {
      "cell_type": "markdown",
      "metadata": {
        "id": "5p5L6WJF2Fug"
      },
      "source": [
        "Splitting the dataset into the Training set and Test set"
      ]
    },
    {
      "cell_type": "code",
      "metadata": {
        "id": "JxbTqqvO2IWg",
        "colab": {
          "base_uri": "https://localhost:8080/"
        },
        "outputId": "cb93411c-2334-481e-9f90-1bb793044fb2"
      },
      "source": [
        "from sklearn.model_selection import train_test_split\n",
        "X_train, X_test, y_train, y_test = train_test_split(X, y, test_size = 0.2, random_state = 0)\n",
        "\n",
        "print(X_train.shape, X_test.shape, y_train.shape, y_test.shape)\n",
        "print(X_train[0:5,:])"
      ],
      "execution_count": null,
      "outputs": [
        {
          "output_type": "stream",
          "text": [
            "(40, 3) (10, 3) (40,) (10,)\n",
            "[[103057.49 214634.81 'Florida']\n",
            " [85047.44 205517.64 'New York']\n",
            " [144135.98 134050.07 'Florida']\n",
            " [157693.92 210797.67 'California']\n",
            " [114175.79 294919.57 'Florida']]\n"
          ],
          "name": "stdout"
        }
      ]
    },
    {
      "cell_type": "markdown",
      "metadata": {
        "id": "6NoZrFTx2Mj_"
      },
      "source": [
        "Fitting Multiple Linear Regression to the Training set"
      ]
    },
    {
      "cell_type": "code",
      "metadata": {
        "id": "8DjNp1zQ2NAo",
        "colab": {
          "base_uri": "https://localhost:8080/"
        },
        "outputId": "2df35813-9718-404e-fa88-0cf91b6d0ee5"
      },
      "source": [
        "\n",
        "# Encoding categorical data\n",
        "# Encoding the Independent Variable\n",
        "from sklearn.preprocessing import LabelEncoder, OneHotEncoder\n",
        "onehotencoder = OneHotEncoder()\n",
        "X1 = X[:,3].reshape(-1, 1)\n",
        "X1 = onehotencoder.fit_transform(X1).toarray()\n",
        "X = np.c_[X1, X[:, 0:3]]\n",
        "\n",
        "print(X1[0:5,:])\n",
        "print(X[0:5,:])\n",
        "\n",
        "# labelencoder = LabelEncoder()\n",
        "# X[:, 3] = labelencoder.fit_transform(X[:, 3])"
      ],
      "execution_count": null,
      "outputs": [
        {
          "output_type": "stream",
          "text": [
            "[[0. 0. 1.]\n",
            " [1. 0. 0.]\n",
            " [0. 1. 0.]\n",
            " [0. 0. 1.]\n",
            " [0. 1. 0.]]\n",
            "[[0.0 0.0 1.0 165349.2 136897.8 471784.1]\n",
            " [1.0 0.0 0.0 162597.7 151377.59 443898.53]\n",
            " [0.0 1.0 0.0 153441.51 101145.55 407934.54]\n",
            " [0.0 0.0 1.0 144372.41 118671.85 383199.62]\n",
            " [0.0 1.0 0.0 142107.34 91391.77 366168.42]]\n"
          ],
          "name": "stdout"
        }
      ]
    },
    {
      "cell_type": "markdown",
      "metadata": {
        "id": "WcD9t53B2N6J"
      },
      "source": [
        "Avoiding the Dummy Variable Trap"
      ]
    },
    {
      "cell_type": "code",
      "metadata": {
        "id": "_pEMzRhZ2P4X",
        "colab": {
          "base_uri": "https://localhost:8080/"
        },
        "outputId": "c1b64f56-6c7f-434d-8f52-b3d8aff89c91"
      },
      "source": [
        "X = X[:, 1:]\n",
        "print(X[0:5,:])"
      ],
      "execution_count": null,
      "outputs": [
        {
          "output_type": "stream",
          "text": [
            "[[0.0 1.0 165349.2 136897.8 471784.1]\n",
            " [0.0 0.0 162597.7 151377.59 443898.53]\n",
            " [1.0 0.0 153441.51 101145.55 407934.54]\n",
            " [0.0 1.0 144372.41 118671.85 383199.62]\n",
            " [1.0 0.0 142107.34 91391.77 366168.42]]\n"
          ],
          "name": "stdout"
        }
      ]
    },
    {
      "cell_type": "markdown",
      "metadata": {
        "id": "dsfxu2fTArIp"
      },
      "source": [
        "# Splitting the dataset into the Training set and Test set"
      ]
    },
    {
      "cell_type": "code",
      "metadata": {
        "id": "cXfgKmEbArRI"
      },
      "source": [
        "from sklearn.model_selection import train_test_split\n",
        "X_train, X_test, y_train, y_test = train_test_split(X, y, test_size = 0.2, random_state = 0)\n",
        "\n",
        "print(X_train.shape, X_test.shape, y_train.shape, y_test.shape)\n",
        "print(X_train[0:5,:])"
      ],
      "execution_count": null,
      "outputs": []
    },
    {
      "cell_type": "markdown",
      "metadata": {
        "id": "Vm-ICa-rAyzy"
      },
      "source": [
        "# Fitting Multiple Linear Regression to the Training set"
      ]
    },
    {
      "cell_type": "code",
      "metadata": {
        "id": "2CWiVwf-AzFx"
      },
      "source": [
        "from sklearn.linear_model import LinearRegression\n",
        "regressor = LinearRegression()\n",
        "regressor.fit(X_train, y_train)"
      ],
      "execution_count": null,
      "outputs": []
    },
    {
      "cell_type": "markdown",
      "metadata": {
        "id": "SdFBb2KlBi6p"
      },
      "source": [
        "## Predicting the Test set results"
      ]
    },
    {
      "cell_type": "code",
      "metadata": {
        "id": "GdFhh5oPBhoL"
      },
      "source": [
        "y_pred = regressor.predict(X_test)\n",
        "print('coef= ', regressor.coef_)\n",
        "print('intercept= ', regressor.intercept_)\n",
        "print('score= ', regressor.score(X, y))"
      ],
      "execution_count": null,
      "outputs": []
    },
    {
      "cell_type": "markdown",
      "metadata": {
        "id": "ulvU5WqnBnWB"
      },
      "source": [
        "## Building the optimal model using Backward Elimination"
      ]
    },
    {
      "cell_type": "code",
      "metadata": {
        "id": "m9CEo2oOBlJ3"
      },
      "source": [
        "import statsmodels.api as sm\n",
        "# X_train = np.append(arr = np.ones((40, 1)), values = X_train, axis = 1)\n",
        "X_train = sm.add_constant(X_train)\n",
        "X_opt = X_train[:, [0, 1, 2, 3, 4, 5]] # why need to write 0~5\n",
        "X_opt = np.array(X_opt, dtype='float')\n",
        "\n",
        "regressor_OLS = sm.OLS(y_train, X_opt).fit()\n",
        "print(regressor_OLS.summary())"
      ],
      "execution_count": null,
      "outputs": []
    },
    {
      "cell_type": "code",
      "metadata": {
        "id": "d5qmsUcMCSXp"
      },
      "source": [
        "X_opt = X_train[:, [0, 1, 3, 4, 5]] \n",
        "X_opt = np.array(X_opt, dtype='float')\n",
        "regressor_OLS = sm.OLS(endog = y_train, exog = X_opt).fit()\n",
        "print(regressor_OLS.summary())"
      ],
      "execution_count": null,
      "outputs": []
    },
    {
      "cell_type": "code",
      "metadata": {
        "id": "55k3BqM5CTdR"
      },
      "source": [
        "X_opt = X_train[:, [0, 3, 4, 5]] \n",
        "X_opt = np.array(X_opt, dtype='float')\n",
        "regressor_OLS = sm.OLS(endog = y_train, exog = X_opt).fit()\n",
        "print(regressor_OLS.summary())"
      ],
      "execution_count": null,
      "outputs": []
    },
    {
      "cell_type": "code",
      "metadata": {
        "id": "Fn-yOVP1CU2h"
      },
      "source": [
        "X_opt = X_train[:, [0, 3, 5]] \n",
        "X_opt = np.array(X_opt, dtype='float')\n",
        "regressor_OLS = sm.OLS(endog = y_train, exog = X_opt).fit()\n",
        "print(regressor_OLS.summary())"
      ],
      "execution_count": null,
      "outputs": []
    },
    {
      "cell_type": "code",
      "metadata": {
        "id": "bGWJsIgqCVr6"
      },
      "source": [
        "X_opt = X_train[:, [0, 3]] \n",
        "X_opt = np.array(X_opt, dtype='float')\n",
        "regressor_OLS = sm.OLS(endog = y_train, exog = X_opt).fit()\n",
        "print(regressor_OLS.summary())"
      ],
      "execution_count": null,
      "outputs": []
    },
    {
      "cell_type": "markdown",
      "metadata": {
        "id": "fEkfXMdB1hAn"
      },
      "source": [
        "# Logistic Regression"
      ]
    },
    {
      "cell_type": "markdown",
      "metadata": {
        "id": "cXPAypCe28MR"
      },
      "source": [
        "#### Importing the libraries"
      ]
    },
    {
      "cell_type": "code",
      "metadata": {
        "id": "Hag14PnF2jVi"
      },
      "source": [
        "import numpy as np\n",
        "import matplotlib.pyplot as plt\n",
        "import pandas as pd"
      ],
      "execution_count": 1,
      "outputs": []
    },
    {
      "cell_type": "markdown",
      "metadata": {
        "id": "QNi_O_ZN298p"
      },
      "source": [
        "#### Importing the dataset"
      ]
    },
    {
      "cell_type": "code",
      "metadata": {
        "id": "yw9b7yXR2mDj"
      },
      "source": [
        "dataset = pd.read_csv('https://raw.githubusercontent.com/hank199599/Machine-Learning-for-Practical-Optical-Design-data/main/data/Social_Network_Ads.csv')\n",
        "X = dataset.iloc[:, [2,3]].values\n",
        "y = dataset.iloc[:, 4].values"
      ],
      "execution_count": 2,
      "outputs": []
    },
    {
      "cell_type": "markdown",
      "metadata": {
        "id": "4Oude5vj2_tZ"
      },
      "source": [
        "#### Splitting the dataset into the Training set and Test set"
      ]
    },
    {
      "cell_type": "code",
      "metadata": {
        "id": "hkfhrD4_2zTa"
      },
      "source": [
        "from sklearn.model_selection import train_test_split\n",
        "X_train, X_test, y_train, y_test = train_test_split(X, y, test_size = 0.25, random_state = 0)"
      ],
      "execution_count": 3,
      "outputs": []
    },
    {
      "cell_type": "markdown",
      "metadata": {
        "id": "T_U2GZWr3BmB"
      },
      "source": [
        "#### Feature Scaling"
      ]
    },
    {
      "cell_type": "code",
      "metadata": {
        "id": "cssdrqjA21sC"
      },
      "source": [
        "from sklearn.preprocessing import StandardScaler\n",
        "sc_X = StandardScaler()\n",
        "X_train = sc_X.fit_transform(X_train)\n",
        "X_test = sc_X.transform(X_test)"
      ],
      "execution_count": 4,
      "outputs": []
    },
    {
      "cell_type": "markdown",
      "metadata": {
        "id": "BIuTr90m3G4p"
      },
      "source": [
        "#### Fitting Logistic Regression to the Training set"
      ]
    },
    {
      "cell_type": "code",
      "metadata": {
        "id": "AFwUHnWy23Pa",
        "outputId": "24b2a3ce-13a5-453a-d3a2-bbe8987b7e43",
        "colab": {
          "base_uri": "https://localhost:8080/"
        }
      },
      "source": [
        "from sklearn.linear_model import LogisticRegression\n",
        "classifier = LogisticRegression(random_state = 0)\n",
        "classifier.fit(X_train, y_train)"
      ],
      "execution_count": 5,
      "outputs": [
        {
          "output_type": "execute_result",
          "data": {
            "text/plain": [
              "LogisticRegression(C=1.0, class_weight=None, dual=False, fit_intercept=True,\n",
              "                   intercept_scaling=1, l1_ratio=None, max_iter=100,\n",
              "                   multi_class='auto', n_jobs=None, penalty='l2',\n",
              "                   random_state=0, solver='lbfgs', tol=0.0001, verbose=0,\n",
              "                   warm_start=False)"
            ]
          },
          "metadata": {
            "tags": []
          },
          "execution_count": 5
        }
      ]
    },
    {
      "cell_type": "markdown",
      "metadata": {
        "id": "SM7tKzsv3Leh"
      },
      "source": [
        "#### Predicting the Test set results"
      ]
    },
    {
      "cell_type": "code",
      "metadata": {
        "id": "-cuRUZCY249h"
      },
      "source": [
        "y_pred = classifier.predict(X_test)"
      ],
      "execution_count": 6,
      "outputs": []
    },
    {
      "cell_type": "markdown",
      "metadata": {
        "id": "vONlJ5RG3NXJ"
      },
      "source": [
        "#### Making the Confusion Matrix"
      ]
    },
    {
      "cell_type": "code",
      "metadata": {
        "id": "SFraqGYM26Bz"
      },
      "source": [
        "from sklearn.metrics import confusion_matrix\n",
        "cm = confusion_matrix(y_test, y_pred)"
      ],
      "execution_count": 7,
      "outputs": []
    },
    {
      "cell_type": "code",
      "metadata": {
        "id": "ptQjEiV53WBC",
        "outputId": "238cbbaf-b8b2-44d6-efea-05d937eca423",
        "colab": {
          "base_uri": "https://localhost:8080/"
        }
      },
      "source": [
        "cm"
      ],
      "execution_count": 8,
      "outputs": [
        {
          "output_type": "execute_result",
          "data": {
            "text/plain": [
              "array([[65,  3],\n",
              "       [ 8, 24]])"
            ]
          },
          "metadata": {
            "tags": []
          },
          "execution_count": 8
        }
      ]
    },
    {
      "cell_type": "markdown",
      "metadata": {
        "id": "wC6lZUWV3Zk5"
      },
      "source": [
        "The count :\n",
        "* true negatives is C0,0\n",
        "* false negatives is C1,0\n",
        "* true positives is C1,1\n",
        "* false positives is C0,1."
      ]
    },
    {
      "cell_type": "markdown",
      "metadata": {
        "id": "bMAnVv_-6jg2"
      },
      "source": [
        "#### Visualising the Training set results"
      ]
    },
    {
      "cell_type": "code",
      "metadata": {
        "id": "RWit-Y_D6nx3",
        "outputId": "49e4233f-6773-49b1-c090-9e42f629705c",
        "colab": {
          "base_uri": "https://localhost:8080/",
          "height": 349
        }
      },
      "source": [
        "\n",
        "from matplotlib.colors import ListedColormap\n",
        "X_set, y_set = X_train, y_train\n",
        "X1, X2 = np.meshgrid(np.arange(start = X_set[:, 0].min() - 1, stop = X_set[:, 0].max() + 1, step = 0.01),\n",
        "                     np.arange(start = X_set[:, 1].min() - 1, stop = X_set[:, 1].max() + 1, step = 0.01))\n",
        "plt.contourf(X1, X2, classifier.predict(np.array([X1.ravel(), X2.ravel()]).T).reshape(X1.shape),\n",
        "             alpha = 0.75, cmap = ListedColormap(('red', 'green')))\n",
        "plt.xlim(X1.min(), X1.max())\n",
        "plt.ylim(X2.min(), X2.max())\n",
        "for i, j in enumerate(np.unique(y_set)):\n",
        "    plt.scatter(X_set[y_set == j, 0], X_set[y_set == j, 1],\n",
        "                c = ListedColormap(('orange', 'blue'))(i), label = j)\n",
        "plt.title('Logistic Regression (Training set)')\n",
        "plt.xlabel('Age')\n",
        "plt.ylabel('Estimated Salary')\n",
        "plt.legend()\n",
        "plt.show()"
      ],
      "execution_count": 9,
      "outputs": [
        {
          "output_type": "stream",
          "text": [
            "*c* argument looks like a single numeric RGB or RGBA sequence, which should be avoided as value-mapping will have precedence in case its length matches with *x* & *y*.  Please use the *color* keyword-argument or provide a 2-D array with a single row if you intend to specify the same RGB or RGBA value for all points.\n",
            "*c* argument looks like a single numeric RGB or RGBA sequence, which should be avoided as value-mapping will have precedence in case its length matches with *x* & *y*.  Please use the *color* keyword-argument or provide a 2-D array with a single row if you intend to specify the same RGB or RGBA value for all points.\n"
          ],
          "name": "stderr"
        },
        {
          "output_type": "display_data",
          "data": {
            "image/png": "[encoded data removed]",
            "text/plain": [
              "<Figure size 432x288 with 1 Axes>"
            ]
          },
          "metadata": {
            "tags": [],
            "needs_background": "light"
          }
        }
      ]
    }
  ]
}