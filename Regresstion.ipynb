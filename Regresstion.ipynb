{
  "nbformat": 4,
  "nbformat_minor": 0,
  "metadata": {
    "colab": {
      "name": "Regresstion.ipynb",
      "provenance": [],
      "collapsed_sections": [],
      "authorship_tag": "ABX9TyMSQhuC4bgxzKWcpuwt/tHI",
      "include_colab_link": true
    },
    "kernelspec": {
      "name": "python3",
      "display_name": "Python 3"
    }
  },
  "cells": [
    {
      "cell_type": "markdown",
      "metadata": {
        "id": "view-in-github",
        "colab_type": "text"
      },
      "source": [
        "<a href=\"https://colab.research.google.com/github/hank199599/Machine-Learning-for-Practical-Optical-Design-data/blob/main/Regresstion.ipynb\" target=\"_parent\"><img src=\"https://colab.research.google.com/assets/colab-badge.svg\" alt=\"Open In Colab\"/></a>"
      ]
    },
    {
      "cell_type": "markdown",
      "metadata": {
        "id": "IL8iHOovh28j"
      },
      "source": [
        "# Import library"
      ]
    },
    {
      "cell_type": "code",
      "metadata": {
        "id": "Mla18f_Yh9pY"
      },
      "source": [
        "import numpy as np\r\n",
        "import matplotlib.pyplot as plt\r\n",
        "import pandas as pd"
      ],
      "execution_count": 5,
      "outputs": []
    },
    {
      "cell_type": "markdown",
      "metadata": {
        "id": "obOirr03iJ1x"
      },
      "source": [
        "# import dataset"
      ]
    },
    {
      "cell_type": "code",
      "metadata": {
        "colab": {
          "base_uri": "https://localhost:8080/"
        },
        "id": "31EMHtAvZXbi",
        "outputId": "152264cb-00b8-409e-fd3b-48fd7c727178"
      },
      "source": [
        "url = 'https://raw.githubusercontent.com/hank199599/Machine-Learning-for-Practical-Optical-Design-data/main/Data.csv'\r\n",
        "\r\n",
        "dataset =pd.read_csv(url, sep=',',header=None)\r\n",
        "X = dataset.iloc[:,:-1].values\r\n",
        "Y = dataset.iloc[:,3].values\r\n",
        "\r\n",
        "print(dataset.shape,X.shape,Y.shape)\r\n",
        "\r\n",
        "print(X)\r\n",
        "print(Y)"
      ],
      "execution_count": 7,
      "outputs": [
        {
          "output_type": "stream",
          "text": [
            "(11, 4) (11, 3) (11,)\n",
            "[['Country' 'Age' 'Salary']\n",
            " ['France' '44' '72000']\n",
            " ['Spain' '27' '48000']\n",
            " ['Germany' '30' '54000']\n",
            " ['Spain' '38' '61000']\n",
            " ['Germany' '40' nan]\n",
            " ['France' '35' '58000']\n",
            " ['Spain' nan '52000']\n",
            " ['France' '48' '79000']\n",
            " ['Germany' '50' '83000']\n",
            " ['France' '37' '67000']]\n",
            "['Purchased' 'No' 'Yes' 'No' 'No' 'Yes' 'Yes' 'No' 'Yes' 'No' 'Yes']\n"
          ],
          "name": "stdout"
        }
      ]
    },
    {
      "cell_type": "code",
      "metadata": {
        "id": "R9Opwz18iIhB"
      },
      "source": [
        ""
      ],
      "execution_count": null,
      "outputs": []
    },
    {
      "cell_type": "markdown",
      "metadata": {
        "id": "OiRUPhLah5vi"
      },
      "source": [
        "importing the dataset"
      ]
    }
  ]
}