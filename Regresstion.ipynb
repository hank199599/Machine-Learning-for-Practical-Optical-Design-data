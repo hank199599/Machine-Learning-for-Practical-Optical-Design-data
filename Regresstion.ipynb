{
  "nbformat": 4,
  "nbformat_minor": 0,
  "metadata": {
    "colab": {
      "name": "Regresstion.ipynb",
      "provenance": [],
      "collapsed_sections": [],
      "authorship_tag": "ABX9TyNBvrvpARrCUW9wArtjKMxM",
      "include_colab_link": true
    },
    "kernelspec": {
      "name": "python3",
      "display_name": "Python 3"
    }
  },
  "cells": [
    {
      "cell_type": "markdown",
      "metadata": {
        "id": "view-in-github",
        "colab_type": "text"
      },
      "source": [
        "<a href=\"https://colab.research.google.com/github/hank199599/Machine-Learning-for-Practical-Optical-Design-data/blob/main/Regresstion.ipynb\" target=\"_parent\"><img src=\"https://colab.research.google.com/assets/colab-badge.svg\" alt=\"Open In Colab\"/></a>"
      ]
    },
    {
      "cell_type": "markdown",
      "metadata": {
        "id": "IL8iHOovh28j"
      },
      "source": [
        "# Import library"
      ]
    },
    {
      "cell_type": "code",
      "metadata": {
        "id": "Mla18f_Yh9pY"
      },
      "source": [
        "import numpy as np\r\n",
        "import matplotlib.pyplot as plt\r\n",
        "import pandas as pd"
      ],
      "execution_count": 18,
      "outputs": []
    },
    {
      "cell_type": "markdown",
      "metadata": {
        "id": "obOirr03iJ1x"
      },
      "source": [
        "# import dataset"
      ]
    },
    {
      "cell_type": "code",
      "metadata": {
        "colab": {
          "base_uri": "https://localhost:8080/"
        },
        "id": "31EMHtAvZXbi",
        "outputId": "a3f2a0c0-05a6-46bc-c115-254824536750"
      },
      "source": [
        "url = 'https://raw.githubusercontent.com/hank199599/Machine-Learning-for-Practical-Optical-Design-data/main/Data.csv'\r\n",
        "\r\n",
        "dataset =pd.read_csv(url, sep=',')\r\n",
        "X = dataset.iloc[:,:-1].values\r\n",
        "y = dataset.iloc[:,3].values\r\n",
        "\r\n",
        "print(dataset.shape,X.shape,Y.shape)\r\n",
        "\r\n",
        "print(X)\r\n",
        "print(y)"
      ],
      "execution_count": 29,
      "outputs": [
        {
          "output_type": "stream",
          "text": [
            "(10, 4) (10, 3) (10,)\n",
            "[['France' 44.0 72000.0]\n",
            " ['Spain' 27.0 48000.0]\n",
            " ['Germany' 30.0 54000.0]\n",
            " ['Spain' 38.0 61000.0]\n",
            " ['Germany' 40.0 nan]\n",
            " ['France' 35.0 58000.0]\n",
            " ['Spain' nan 52000.0]\n",
            " ['France' 48.0 79000.0]\n",
            " ['Germany' 50.0 83000.0]\n",
            " ['France' 37.0 67000.0]]\n",
            "['No' 'Yes' 'No' 'No' 'Yes' 'Yes' 'No' 'Yes' 'No' 'Yes']\n"
          ],
          "name": "stdout"
        }
      ]
    },
    {
      "cell_type": "markdown",
      "metadata": {
        "id": "CMqXAbrGoiKh"
      },
      "source": [
        "# scikit-learn.[SimpleImputer](https://scikit-learn.org/stable/modules/generated/sklearn.impute.SimpleImputer.html#sklearn.impute.SimpleImputer)：填補缺失數據  \r\n",
        "```python\r\n",
        "fit_transform(X[, y])\r\n",
        "```\r\n",
        "Fit to data, then transform it.  \r\n",
        "Fits transformer to X and y with optional parameters fit_params and returns a transformed version of X."
      ]
    },
    {
      "cell_type": "code",
      "metadata": {
        "colab": {
          "base_uri": "https://localhost:8080/"
        },
        "id": "R9Opwz18iIhB",
        "outputId": "79aa7603-abc9-43ce-fbe8-3f3a1be7081e"
      },
      "source": [
        "from sklearn.impute import SimpleImputer\r\n",
        "imputer = SimpleImputer()\r\n",
        "imputer = imputer.fit(X[:, 1:3])\r\n",
        "X[:, 1:3] = imputer.transform(X[:, 1:3])\r\n",
        "print(X)"
      ],
      "execution_count": 32,
      "outputs": [
        {
          "output_type": "stream",
          "text": [
            "[[1.0 0.0 0.0 44.0 72000.0]\n",
            " [0.0 0.0 1.0 27.0 48000.0]\n",
            " [0.0 1.0 0.0 30.0 54000.0]\n",
            " [0.0 0.0 1.0 38.0 61000.0]\n",
            " [0.0 1.0 0.0 40.0 nan]\n",
            " [1.0 0.0 0.0 35.0 58000.0]\n",
            " [0.0 0.0 1.0 nan 52000.0]\n",
            " [1.0 0.0 0.0 48.0 79000.0]\n",
            " [0.0 1.0 0.0 50.0 83000.0]\n",
            " [1.0 0.0 0.0 37.0 67000.0]]\n"
          ],
          "name": "stdout"
        }
      ]
    },
    {
      "cell_type": "markdown",
      "metadata": {
        "id": "WKwNeC7zrQeB"
      },
      "source": [
        "## scikit-learn.[LabelEncoder](https://scikit-learn.org/stable/modules/generated/sklearn.preprocessing.LabelEncoder.html?highlight=labelencoder)  \r\n",
        "Encoding categorical data"
      ]
    },
    {
      "cell_type": "code",
      "metadata": {
        "id": "d8qFRoiKpUnf"
      },
      "source": [
        "from sklearn.preprocessing import LabelEncoder\r\n",
        "labelencoder_X = LabelEncoder()\r\n",
        "X[:, 0] = labelencoder_X.fit_transform(X[:, 0])\r\n",
        "labelencoder_y = LabelEncoder()\r\n",
        "y = labelencoder_y.fit_transform(y)"
      ],
      "execution_count": 33,
      "outputs": []
    },
    {
      "cell_type": "code",
      "metadata": {
        "colab": {
          "base_uri": "https://localhost:8080/"
        },
        "id": "Zupd883BrpJf",
        "outputId": "d4f77d24-6a92-47fd-a5dd-9d3861183984"
      },
      "source": [
        "print(X)"
      ],
      "execution_count": 34,
      "outputs": [
        {
          "output_type": "stream",
          "text": [
            "[[1 0.0 0.0 44.0 72000.0]\n",
            " [0 0.0 1.0 27.0 48000.0]\n",
            " [0 1.0 0.0 30.0 54000.0]\n",
            " [0 0.0 1.0 38.0 61000.0]\n",
            " [0 1.0 0.0 40.0 nan]\n",
            " [1 0.0 0.0 35.0 58000.0]\n",
            " [0 0.0 1.0 nan 52000.0]\n",
            " [1 0.0 0.0 48.0 79000.0]\n",
            " [0 1.0 0.0 50.0 83000.0]\n",
            " [1 0.0 0.0 37.0 67000.0]]\n"
          ],
          "name": "stdout"
        }
      ]
    },
    {
      "cell_type": "code",
      "metadata": {
        "colab": {
          "base_uri": "https://localhost:8080/"
        },
        "id": "3I7Z6QYeroLG",
        "outputId": "50632c97-a227-4631-effe-09e3507de956"
      },
      "source": [
        "print(y)"
      ],
      "execution_count": 35,
      "outputs": [
        {
          "output_type": "stream",
          "text": [
            "[0 1 0 0 1 1 0 1 0 1]\n"
          ],
          "name": "stdout"
        }
      ]
    },
    {
      "cell_type": "markdown",
      "metadata": {
        "id": "OiRUPhLah5vi"
      },
      "source": [
        "## scikit-learn.[OneHotEncoder](https://scikit-learn.org/stable/modules/generated/sklearn.preprocessing.OneHotEncoder.html?highlight=onehotencoder#sklearn.preprocessing.OneHotEncoder)\r\n",
        "Encoding the Independent variable"
      ]
    },
    {
      "cell_type": "code",
      "metadata": {
        "colab": {
          "base_uri": "https://localhost:8080/"
        },
        "id": "5cNZyC1SsSFf",
        "outputId": "7dcbf7b0-4194-4761-a7c7-4fc46efec10c"
      },
      "source": [
        "from sklearn.preprocessing import OneHotEncoder\r\n",
        "\r\n",
        "X1 = X[:, 0].reshape(-1, 1)\r\n",
        "\r\n",
        "onehotencoder_X1 = OneHotEncoder()\r\n",
        "X1 = onehotencoder_X1.fit_transform(X1).toarray()\r\n",
        "onehotencoder_X1.categories_\r\n",
        "# print(X1) ['Country']欄位修正為三欄\r\n",
        "\r\n",
        "X = np.c_[X1, X[:, 1:]]\r\n",
        "print(X)"
      ],
      "execution_count": 36,
      "outputs": [
        {
          "output_type": "stream",
          "text": [
            "[[0.0 1.0 0.0 0.0 44.0 72000.0]\n",
            " [1.0 0.0 0.0 1.0 27.0 48000.0]\n",
            " [1.0 0.0 1.0 0.0 30.0 54000.0]\n",
            " [1.0 0.0 0.0 1.0 38.0 61000.0]\n",
            " [1.0 0.0 1.0 0.0 40.0 nan]\n",
            " [0.0 1.0 0.0 0.0 35.0 58000.0]\n",
            " [1.0 0.0 0.0 1.0 nan 52000.0]\n",
            " [0.0 1.0 0.0 0.0 48.0 79000.0]\n",
            " [1.0 0.0 1.0 0.0 50.0 83000.0]\n",
            " [0.0 1.0 0.0 0.0 37.0 67000.0]]\n"
          ],
          "name": "stdout"
        }
      ]
    },
    {
      "cell_type": "markdown",
      "metadata": {
        "id": "g_fHexSuuEOt"
      },
      "source": [
        "# 切割資料集  \r\n",
        " Splitting the dataset into the Training set and Test set"
      ]
    },
    {
      "cell_type": "code",
      "metadata": {
        "colab": {
          "base_uri": "https://localhost:8080/"
        },
        "id": "pUoB8P5lxHLl",
        "outputId": "bf41d139-14f2-4b25-f9eb-28c550e2afdb"
      },
      "source": [
        "from sklearn.model_selection import train_test_split\r\n",
        "X_train,X_test,y_train,y_test = train_test_split(X,y,test_size=0.2,random_state=0)\r\n",
        "print(y_train,y_test)"
      ],
      "execution_count": 41,
      "outputs": [
        {
          "output_type": "stream",
          "text": [
            "[1 1 1 0 1 0 0 1] [0 0]\n"
          ],
          "name": "stdout"
        }
      ]
    },
    {
      "cell_type": "code",
      "metadata": {
        "colab": {
          "base_uri": "https://localhost:8080/"
        },
        "id": "pyJf0Wy9uIFd",
        "outputId": "295ba698-1d42-474e-a177-b37b662aa091"
      },
      "source": [
        "from sklearn.preprocessing import StandardScaler\r\n",
        "sc_X = StandardScaler()\r\n",
        "\r\n",
        "X_train = sc_X.fit_transform(X_train)\r\n",
        "X_test = sc_X.transform(X_test)\r\n",
        "print(X_trin,X_test)"
      ],
      "execution_count": 42,
      "outputs": [
        {
          "output_type": "stream",
          "text": [
            "[[1.0 0.0 1.0 0.0 40.0 nan]\n",
            " [0.0 1.0 0.0 0.0 37.0 67000.0]\n",
            " [1.0 0.0 0.0 1.0 27.0 48000.0]\n",
            " [1.0 0.0 0.0 1.0 nan 52000.0]\n",
            " [0.0 1.0 0.0 0.0 48.0 79000.0]\n",
            " [1.0 0.0 0.0 1.0 38.0 61000.0]\n",
            " [0.0 1.0 0.0 0.0 44.0 72000.0]\n",
            " [0.0 1.0 0.0 0.0 35.0 58000.0]] [[ 1.         -1.          2.64575131 -0.77459667 -1.35784756 -0.82778996]\n",
            " [ 1.         -1.          2.64575131 -0.77459667  1.8641636   2.02036872]]\n"
          ],
          "name": "stdout"
        }
      ]
    },
    {
      "cell_type": "markdown",
      "metadata": {
        "id": "ZnmL42Hp0gAM"
      },
      "source": [
        "# 簡單線性迴歸\r\n",
        "Simple Linear Regression"
      ]
    },
    {
      "cell_type": "code",
      "metadata": {
        "id": "wTQ9UegE0kmT"
      },
      "source": [
        "import numpy as np\r\n",
        "import matplotlib.pyplot as plt\r\n",
        "import pandas as pd"
      ],
      "execution_count": 43,
      "outputs": []
    },
    {
      "cell_type": "code",
      "metadata": {
        "colab": {
          "base_uri": "https://localhost:8080/"
        },
        "id": "BglUKhdD0mmb",
        "outputId": "b62412b2-ba47-44c5-fbcd-0b26dc9dde2d"
      },
      "source": [
        "dataset = pd.read_csv('https://raw.githubusercontent.com/hank199599/Machine-Learning-for-Practical-Optical-Design-data/main/Salary_Data.csv')\r\n",
        "X = dataset.iloc[:, :-1].values\r\n",
        "y = dataset.iloc[:, 1].values\r\n",
        "print(X.shape, y.shape)"
      ],
      "execution_count": 44,
      "outputs": [
        {
          "output_type": "stream",
          "text": [
            "(30, 1) (30,)\n"
          ],
          "name": "stdout"
        }
      ]
    },
    {
      "cell_type": "code",
      "metadata": {
        "id": "pHrYnXwp019D"
      },
      "source": [
        "from sklearn.model_selection import train_test_split\r\n",
        "X_train, X_test, y_train, y_test = train_test_split(X, y, test_size = 1/3, random_state = 0)"
      ],
      "execution_count": 45,
      "outputs": []
    },
    {
      "cell_type": "code",
      "metadata": {
        "colab": {
          "base_uri": "https://localhost:8080/"
        },
        "id": "D5IHY6NH037z",
        "outputId": "ed9fe156-b426-4399-97e1-c7a70a670c93"
      },
      "source": [
        "from sklearn.linear_model import LinearRegression\r\n",
        "regressor = LinearRegression()\r\n",
        "regressor.fit(X_train, y_train)"
      ],
      "execution_count": 53,
      "outputs": [
        {
          "output_type": "stream",
          "text": [
            "LinearRegression(copy_X=True, fit_intercept=True, n_jobs=None, normalize=False)\n"
          ],
          "name": "stdout"
        }
      ]
    },
    {
      "cell_type": "code",
      "metadata": {
        "colab": {
          "base_uri": "https://localhost:8080/"
        },
        "id": "9qNvYtRR1uH3",
        "outputId": "4c374816-2db5-453f-e811-20bb9832b79a"
      },
      "source": [
        "y_predic = regressor.predict(y_train.reshape(-1,1))\r\n",
        "y_predic"
      ],
      "execution_count": 50,
      "outputs": [
        {
          "output_type": "execute_result",
          "data": {
            "text/plain": [
              "array([5.29399688e+08, 6.17130050e+08, 6.02326077e+08, 5.71166705e+08,\n",
              "       1.06370722e+09, 8.57404884e+08, 4.31856087e+08, 1.13903551e+09,\n",
              "       5.62185254e+08, 3.72845806e+08, 7.60440731e+08, 8.77984649e+08,\n",
              "       5.34511919e+08, 5.08866653e+08, 9.86790111e+08, 4.06808961e+08,\n",
              "       3.67724230e+08, 9.18480618e+08, 6.34971454e+08, 5.32343660e+08])"
            ]
          },
          "metadata": {
            "tags": []
          },
          "execution_count": 50
        }
      ]
    },
    {
      "cell_type": "code",
      "metadata": {
        "colab": {
          "base_uri": "https://localhost:8080/",
          "height": 295
        },
        "id": "poOJxXQp1Vmr",
        "outputId": "dc0ebbdd-0cee-4485-db74-0eb28c272bb8"
      },
      "source": [
        "plt.scatter(X_train,y_train,color='g')\r\n",
        "plt.scatter(X_test,y_test,color='b')\r\n",
        "plt.plot(X_train,regressor.predict(X_train),color='r')\r\n",
        "\r\n",
        "plt.title('Salary VS Experience (training set)')\r\n",
        "plt.xlabel('Year of Experience')\r\n",
        "plt.ylabel('Salary')\r\n",
        "plt.show()"
      ],
      "execution_count": 66,
      "outputs": [
        {
          "output_type": "display_data",
          "data": {
            "image/png": "[encoded data removed]",
            "text/plain": [
              "<Figure size 432x288 with 1 Axes>"
            ]
          },
          "metadata": {
            "tags": [],
            "needs_background": "light"
          }
        }
      ]
    }
  ]
}